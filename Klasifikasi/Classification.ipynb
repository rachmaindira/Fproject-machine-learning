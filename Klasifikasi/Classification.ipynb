{
  "nbformat": 4,
  "nbformat_minor": 0,
  "metadata": {
    "colab": {
      "name": "Classification.ipynb",
      "provenance": [],
      "toc_visible": true
    },
    "kernelspec": {
      "name": "python3",
      "display_name": "Python 3"
    }
  },
  "cells": [
    {
      "cell_type": "markdown",
      "metadata": {
        "id": "2utNxda8shoc",
        "colab_type": "text"
      },
      "source": [
        "# **Import Library**"
      ]
    },
    {
      "cell_type": "code",
      "metadata": {
        "id": "SLyj6qFnsoW5",
        "colab_type": "code",
        "colab": {
          "base_uri": "https://localhost:8080/",
          "height": 52
        },
        "outputId": "cb59dda2-2fc3-4aac-8327-9b42a5ae6715"
      },
      "source": [
        "#linear algebra\n",
        "import pandas as pd\n",
        "\n",
        "# data processing, CSV file I/O (e.g. pd.read_csv)\n",
        "import numpy as np\n",
        "\n",
        "# data visualization \n",
        "import matplotlib.pyplot as plt\n",
        "import seaborn as sns\n",
        "sns.set()\n",
        "import matplotlib as mpl\n",
        "mpl.rcParams['figure.dpi'] = 150\n",
        "\n",
        "# sklearn for splitting the data\n",
        "from sklearn.model_selection import train_test_split"
      ],
      "execution_count": 1,
      "outputs": [
        {
          "output_type": "stream",
          "text": [
            "/usr/local/lib/python3.6/dist-packages/statsmodels/tools/_testing.py:19: FutureWarning: pandas.util.testing is deprecated. Use the functions in the public API at pandas.testing instead.\n",
            "  import pandas.util.testing as tm\n"
          ],
          "name": "stderr"
        }
      ]
    },
    {
      "cell_type": "markdown",
      "metadata": {
        "id": "flqiqqjTtKlZ",
        "colab_type": "text"
      },
      "source": [
        "# **Import Dataset**\n",
        "\n",
        "Dataset langsung diakses ke google drive, sehingga tidak perlu mengupload dataset"
      ]
    },
    {
      "cell_type": "code",
      "metadata": {
        "id": "Xw8dnMfJtLrQ",
        "colab_type": "code",
        "outputId": "cab9485e-b7ac-4046-b42d-eb0573fdafce",
        "colab": {
          "base_uri": "https://localhost:8080/",
          "height": 124
        }
      },
      "source": [
        "from google.colab import drive\n",
        "drive.mount('/content/drive/')"
      ],
      "execution_count": 2,
      "outputs": [
        {
          "output_type": "stream",
          "text": [
            "Go to this URL in a browser: https://accounts.google.com/o/oauth2/auth?client_id=947318989803-6bn6qk8qdgf4n4g3pfee6491hc0brc4i.apps.googleusercontent.com&redirect_uri=urn%3aietf%3awg%3aoauth%3a2.0%3aoob&response_type=code&scope=email%20https%3a%2f%2fwww.googleapis.com%2fauth%2fdocs.test%20https%3a%2f%2fwww.googleapis.com%2fauth%2fdrive%20https%3a%2f%2fwww.googleapis.com%2fauth%2fdrive.photos.readonly%20https%3a%2f%2fwww.googleapis.com%2fauth%2fpeopleapi.readonly\n",
            "\n",
            "Enter your authorization code:\n",
            "··········\n",
            "Mounted at /content/drive/\n"
          ],
          "name": "stdout"
        }
      ]
    },
    {
      "cell_type": "code",
      "metadata": {
        "id": "VwXX5MC4tPp3",
        "colab_type": "code",
        "outputId": "662a3cee-c848-419f-c7c3-0c0d78736b21",
        "colab": {
          "base_uri": "https://localhost:8080/",
          "height": 34
        }
      },
      "source": [
        "!ls \"drive/My Drive/malin\""
      ],
      "execution_count": 3,
      "outputs": [
        {
          "output_type": "stream",
          "text": [
            "used_cars.csv\n"
          ],
          "name": "stdout"
        }
      ]
    },
    {
      "cell_type": "code",
      "metadata": {
        "id": "d35AH-1VtSLt",
        "colab_type": "code",
        "colab": {}
      },
      "source": [
        "dataset = pd.read_csv('/content/drive/My Drive/malin/used_cars.csv')"
      ],
      "execution_count": 0,
      "outputs": []
    },
    {
      "cell_type": "markdown",
      "metadata": {
        "id": "KTpiN_oXtgHH",
        "colab_type": "text"
      },
      "source": [
        "# **Eksplorasi dan Persiapan data**\n",
        "\n",
        "Pada tahapan ini dilakukan cleansing data seperti menghilangkan missing value, outlier, kesalahan input, dll. Lalu  sebelum melakukan cleansing saya melakukan drop/hapus beberapa atribut yang dirasa tidak mempunyai korelasi dengan class lalu melakukan encode.\n",
        "\n",
        "Setelah itu melakukan proses eksplorasi data untuk dilakukan tahap selanjutnya yaitu Feature Selection. Di feature selection ini dilihat atribut mana yang mempunyai korelasi/hubungan yang tinggi dengan class(title_status)\n"
      ]
    },
    {
      "cell_type": "code",
      "metadata": {
        "id": "0FeaVJn7tnhz",
        "colab_type": "code",
        "colab": {}
      },
      "source": [
        "dataset.drop(dataset.columns[dataset.columns.str.contains('unnamed',case = False)],axis = 1, inplace = True)\n",
        "df = dataset.drop(columns=['image_url','url','description','region_url','county'])"
      ],
      "execution_count": 0,
      "outputs": []
    },
    {
      "cell_type": "code",
      "metadata": {
        "id": "_56Z5qzau9dS",
        "colab_type": "code",
        "outputId": "50241574-16a3-4a87-f3a5-9df6a968ba43",
        "colab": {
          "base_uri": "https://localhost:8080/",
          "height": 694
        }
      },
      "source": [
        "df"
      ],
      "execution_count": 0,
      "outputs": [
        {
          "output_type": "execute_result",
          "data": {
            "text/html": [
              "<div>\n",
              "<style scoped>\n",
              "    .dataframe tbody tr th:only-of-type {\n",
              "        vertical-align: middle;\n",
              "    }\n",
              "\n",
              "    .dataframe tbody tr th {\n",
              "        vertical-align: top;\n",
              "    }\n",
              "\n",
              "    .dataframe thead th {\n",
              "        text-align: right;\n",
              "    }\n",
              "</style>\n",
              "<table border=\"1\" class=\"dataframe\">\n",
              "  <thead>\n",
              "    <tr style=\"text-align: right;\">\n",
              "      <th></th>\n",
              "      <th>id</th>\n",
              "      <th>region</th>\n",
              "      <th>price</th>\n",
              "      <th>year</th>\n",
              "      <th>manufacturer</th>\n",
              "      <th>model</th>\n",
              "      <th>condition</th>\n",
              "      <th>cylinders</th>\n",
              "      <th>fuel</th>\n",
              "      <th>odometer</th>\n",
              "      <th>title_status</th>\n",
              "      <th>transmission</th>\n",
              "      <th>vin</th>\n",
              "      <th>drive</th>\n",
              "      <th>size</th>\n",
              "      <th>type</th>\n",
              "      <th>paint_color</th>\n",
              "      <th>state</th>\n",
              "      <th>lat</th>\n",
              "      <th>long</th>\n",
              "    </tr>\n",
              "  </thead>\n",
              "  <tbody>\n",
              "    <tr>\n",
              "      <th>0</th>\n",
              "      <td>7034441763</td>\n",
              "      <td>salt lake city</td>\n",
              "      <td>17899</td>\n",
              "      <td>2012.0</td>\n",
              "      <td>volkswagen</td>\n",
              "      <td>golf r</td>\n",
              "      <td>excellent</td>\n",
              "      <td>4 cylinders</td>\n",
              "      <td>gas</td>\n",
              "      <td>63500.0</td>\n",
              "      <td>clean</td>\n",
              "      <td>manual</td>\n",
              "      <td>WVWPF7AJ6CW316713</td>\n",
              "      <td>4wd</td>\n",
              "      <td>compact</td>\n",
              "      <td>hatchback</td>\n",
              "      <td>black</td>\n",
              "      <td>ut</td>\n",
              "      <td>40.7372</td>\n",
              "      <td>-111.858</td>\n",
              "    </tr>\n",
              "    <tr>\n",
              "      <th>1</th>\n",
              "      <td>7034440610</td>\n",
              "      <td>salt lake city</td>\n",
              "      <td>0</td>\n",
              "      <td>2016.0</td>\n",
              "      <td>ford</td>\n",
              "      <td>f-150</td>\n",
              "      <td>excellent</td>\n",
              "      <td>NaN</td>\n",
              "      <td>gas</td>\n",
              "      <td>10.0</td>\n",
              "      <td>clean</td>\n",
              "      <td>automatic</td>\n",
              "      <td>1FTMF1EP3GKF13544</td>\n",
              "      <td>4wd</td>\n",
              "      <td>NaN</td>\n",
              "      <td>NaN</td>\n",
              "      <td>NaN</td>\n",
              "      <td>ut</td>\n",
              "      <td>40.5881</td>\n",
              "      <td>-111.884</td>\n",
              "    </tr>\n",
              "    <tr>\n",
              "      <th>2</th>\n",
              "      <td>7034440588</td>\n",
              "      <td>salt lake city</td>\n",
              "      <td>46463</td>\n",
              "      <td>2015.0</td>\n",
              "      <td>gmc</td>\n",
              "      <td>sierra 1500</td>\n",
              "      <td>excellent</td>\n",
              "      <td>NaN</td>\n",
              "      <td>gas</td>\n",
              "      <td>7554.0</td>\n",
              "      <td>clean</td>\n",
              "      <td>automatic</td>\n",
              "      <td>3GTU2WEC6FG228025</td>\n",
              "      <td>4wd</td>\n",
              "      <td>NaN</td>\n",
              "      <td>NaN</td>\n",
              "      <td>white</td>\n",
              "      <td>ut</td>\n",
              "      <td>40.5881</td>\n",
              "      <td>-111.884</td>\n",
              "    </tr>\n",
              "    <tr>\n",
              "      <th>3</th>\n",
              "      <td>7034440546</td>\n",
              "      <td>salt lake city</td>\n",
              "      <td>0</td>\n",
              "      <td>2016.0</td>\n",
              "      <td>ford</td>\n",
              "      <td>f-150</td>\n",
              "      <td>excellent</td>\n",
              "      <td>NaN</td>\n",
              "      <td>gas</td>\n",
              "      <td>10.0</td>\n",
              "      <td>clean</td>\n",
              "      <td>automatic</td>\n",
              "      <td>1FTEX1EF6GKD25447</td>\n",
              "      <td>4wd</td>\n",
              "      <td>NaN</td>\n",
              "      <td>NaN</td>\n",
              "      <td>NaN</td>\n",
              "      <td>ut</td>\n",
              "      <td>40.5881</td>\n",
              "      <td>-111.884</td>\n",
              "    </tr>\n",
              "    <tr>\n",
              "      <th>4</th>\n",
              "      <td>7034406932</td>\n",
              "      <td>salt lake city</td>\n",
              "      <td>49999</td>\n",
              "      <td>2018.0</td>\n",
              "      <td>ford</td>\n",
              "      <td>f-450</td>\n",
              "      <td>NaN</td>\n",
              "      <td>NaN</td>\n",
              "      <td>diesel</td>\n",
              "      <td>70150.0</td>\n",
              "      <td>clean</td>\n",
              "      <td>automatic</td>\n",
              "      <td>1FT8W4DT8GEA90427</td>\n",
              "      <td>4wd</td>\n",
              "      <td>NaN</td>\n",
              "      <td>pickup</td>\n",
              "      <td>white</td>\n",
              "      <td>ut</td>\n",
              "      <td>40.3744</td>\n",
              "      <td>-104.694</td>\n",
              "    </tr>\n",
              "    <tr>\n",
              "      <th>...</th>\n",
              "      <td>...</td>\n",
              "      <td>...</td>\n",
              "      <td>...</td>\n",
              "      <td>...</td>\n",
              "      <td>...</td>\n",
              "      <td>...</td>\n",
              "      <td>...</td>\n",
              "      <td>...</td>\n",
              "      <td>...</td>\n",
              "      <td>...</td>\n",
              "      <td>...</td>\n",
              "      <td>...</td>\n",
              "      <td>...</td>\n",
              "      <td>...</td>\n",
              "      <td>...</td>\n",
              "      <td>...</td>\n",
              "      <td>...</td>\n",
              "      <td>...</td>\n",
              "      <td>...</td>\n",
              "      <td>...</td>\n",
              "    </tr>\n",
              "    <tr>\n",
              "      <th>19996</th>\n",
              "      <td>7049052853</td>\n",
              "      <td>kennewick-pasco-richland</td>\n",
              "      <td>49999</td>\n",
              "      <td>2016.0</td>\n",
              "      <td>ram</td>\n",
              "      <td>cummin 2500 laramie</td>\n",
              "      <td>NaN</td>\n",
              "      <td>NaN</td>\n",
              "      <td>diesel</td>\n",
              "      <td>43406.0</td>\n",
              "      <td>clean</td>\n",
              "      <td>automatic</td>\n",
              "      <td>3C6UR5FL7GG142137</td>\n",
              "      <td>4wd</td>\n",
              "      <td>NaN</td>\n",
              "      <td>truck</td>\n",
              "      <td>grey</td>\n",
              "      <td>wa</td>\n",
              "      <td>46.2348</td>\n",
              "      <td>-119.128</td>\n",
              "    </tr>\n",
              "    <tr>\n",
              "      <th>19997</th>\n",
              "      <td>7049052797</td>\n",
              "      <td>kennewick-pasco-richland</td>\n",
              "      <td>12127</td>\n",
              "      <td>2018.0</td>\n",
              "      <td>nissan</td>\n",
              "      <td>sentra</td>\n",
              "      <td>NaN</td>\n",
              "      <td>4 cylinders</td>\n",
              "      <td>gas</td>\n",
              "      <td>32867.0</td>\n",
              "      <td>clean</td>\n",
              "      <td>automatic</td>\n",
              "      <td>3N1AB7AP4JY251861</td>\n",
              "      <td>fwd</td>\n",
              "      <td>NaN</td>\n",
              "      <td>sedan</td>\n",
              "      <td>NaN</td>\n",
              "      <td>wa</td>\n",
              "      <td>46.5642</td>\n",
              "      <td>-120.496</td>\n",
              "    </tr>\n",
              "    <tr>\n",
              "      <th>19998</th>\n",
              "      <td>7049049369</td>\n",
              "      <td>kennewick-pasco-richland</td>\n",
              "      <td>0</td>\n",
              "      <td>2019.0</td>\n",
              "      <td>jeep</td>\n",
              "      <td>grand cherokee limited</td>\n",
              "      <td>NaN</td>\n",
              "      <td>6 cylinders</td>\n",
              "      <td>gas</td>\n",
              "      <td>17514.0</td>\n",
              "      <td>clean</td>\n",
              "      <td>automatic</td>\n",
              "      <td>1C4RJFBG9KC713921</td>\n",
              "      <td>4wd</td>\n",
              "      <td>NaN</td>\n",
              "      <td>SUV</td>\n",
              "      <td>NaN</td>\n",
              "      <td>wa</td>\n",
              "      <td>46.0783</td>\n",
              "      <td>-118.293</td>\n",
              "    </tr>\n",
              "    <tr>\n",
              "      <th>19999</th>\n",
              "      <td>7049042761</td>\n",
              "      <td>kennewick-pasco-richland</td>\n",
              "      <td>14661</td>\n",
              "      <td>2017.0</td>\n",
              "      <td>toyota</td>\n",
              "      <td>corolla</td>\n",
              "      <td>NaN</td>\n",
              "      <td>4 cylinders</td>\n",
              "      <td>gas</td>\n",
              "      <td>30486.0</td>\n",
              "      <td>clean</td>\n",
              "      <td>automatic</td>\n",
              "      <td>2T1BURHE5HC804636</td>\n",
              "      <td>fwd</td>\n",
              "      <td>NaN</td>\n",
              "      <td>sedan</td>\n",
              "      <td>NaN</td>\n",
              "      <td>wa</td>\n",
              "      <td>46.5642</td>\n",
              "      <td>-120.496</td>\n",
              "    </tr>\n",
              "    <tr>\n",
              "      <th>20000</th>\n",
              "      <td>7049039610</td>\n",
              "      <td>kennewick-pasco-richland</td>\n",
              "      <td>35999</td>\n",
              "      <td>2019.0</td>\n",
              "      <td>toyota</td>\n",
              "      <td>4runner sr5 4x4 gas suv</td>\n",
              "      <td>NaN</td>\n",
              "      <td>NaN</td>\n",
              "      <td>gas</td>\n",
              "      <td>22078.0</td>\n",
              "      <td>clean</td>\n",
              "      <td>automatic</td>\n",
              "      <td>JTEBU5JR3K5634329</td>\n",
              "      <td>4wd</td>\n",
              "      <td>NaN</td>\n",
              "      <td>SUV</td>\n",
              "      <td>black</td>\n",
              "      <td>wa</td>\n",
              "      <td>46.2348</td>\n",
              "      <td>-119.128</td>\n",
              "    </tr>\n",
              "  </tbody>\n",
              "</table>\n",
              "<p>20001 rows × 20 columns</p>\n",
              "</div>"
            ],
            "text/plain": [
              "               id                    region  price  ...  state      lat     long\n",
              "0      7034441763            salt lake city  17899  ...     ut  40.7372 -111.858\n",
              "1      7034440610            salt lake city      0  ...     ut  40.5881 -111.884\n",
              "2      7034440588            salt lake city  46463  ...     ut  40.5881 -111.884\n",
              "3      7034440546            salt lake city      0  ...     ut  40.5881 -111.884\n",
              "4      7034406932            salt lake city  49999  ...     ut  40.3744 -104.694\n",
              "...           ...                       ...    ...  ...    ...      ...      ...\n",
              "19996  7049052853  kennewick-pasco-richland  49999  ...     wa  46.2348 -119.128\n",
              "19997  7049052797  kennewick-pasco-richland  12127  ...     wa  46.5642 -120.496\n",
              "19998  7049049369  kennewick-pasco-richland      0  ...     wa  46.0783 -118.293\n",
              "19999  7049042761  kennewick-pasco-richland  14661  ...     wa  46.5642 -120.496\n",
              "20000  7049039610  kennewick-pasco-richland  35999  ...     wa  46.2348 -119.128\n",
              "\n",
              "[20001 rows x 20 columns]"
            ]
          },
          "metadata": {
            "tags": []
          },
          "execution_count": 60
        }
      ]
    },
    {
      "cell_type": "markdown",
      "metadata": {
        "id": "M1Zo3Y8SroHO",
        "colab_type": "text"
      },
      "source": [
        "## **Taking care missing value**\n",
        "\n",
        "Mengganti missing value dengan mean, tetapi untuk missing value di class langsung saya hapus."
      ]
    },
    {
      "cell_type": "code",
      "metadata": {
        "id": "mibmj3z-8MjI",
        "colab_type": "code",
        "colab": {}
      },
      "source": [
        "df ['year'] = df['year'].replace(np.NaN , df['year'].mean())\n",
        "df ['odometer'] = df['odometer'].replace(np.NaN , df['odometer'].mean())\n",
        "df ['lat'] = df['lat'].replace(np.NaN , df['lat'].mean())\n",
        "df ['long'] = df['long'].replace(np.NaN , df['long'].mean())"
      ],
      "execution_count": 0,
      "outputs": []
    },
    {
      "cell_type": "code",
      "metadata": {
        "id": "_kB0E66W3hH7",
        "colab_type": "code",
        "colab": {}
      },
      "source": [
        "df =df.dropna(how='all', subset=['title_status'])"
      ],
      "execution_count": 0,
      "outputs": []
    },
    {
      "cell_type": "code",
      "metadata": {
        "id": "9hZ2ama3Pn-F",
        "colab_type": "code",
        "colab": {}
      },
      "source": [
        "df = df.fillna('-')"
      ],
      "execution_count": 0,
      "outputs": []
    },
    {
      "cell_type": "code",
      "metadata": {
        "id": "Bvir3e6er8jG",
        "colab_type": "code",
        "outputId": "a37c3681-a2c7-4676-d643-dfda6852f42f",
        "colab": {
          "base_uri": "https://localhost:8080/",
          "height": 381
        }
      },
      "source": [
        "print(df.isnull().sum()) "
      ],
      "execution_count": 9,
      "outputs": [
        {
          "output_type": "stream",
          "text": [
            "id              0\n",
            "region          0\n",
            "price           0\n",
            "year            0\n",
            "manufacturer    0\n",
            "model           0\n",
            "condition       0\n",
            "cylinders       0\n",
            "fuel            0\n",
            "odometer        0\n",
            "title_status    0\n",
            "transmission    0\n",
            "vin             0\n",
            "drive           0\n",
            "size            0\n",
            "type            0\n",
            "paint_color     0\n",
            "state           0\n",
            "lat             0\n",
            "long            0\n",
            "dtype: int64\n"
          ],
          "name": "stdout"
        }
      ]
    },
    {
      "cell_type": "markdown",
      "metadata": {
        "id": "sE5jrE-osITO",
        "colab_type": "text"
      },
      "source": [
        "## **Taking care outlier**\n",
        "\n",
        "Melihat outlier pada data denga tipe float"
      ]
    },
    {
      "cell_type": "code",
      "metadata": {
        "id": "o7DrL7NLsnll",
        "colab_type": "code",
        "outputId": "572d515a-33f3-4f40-cee6-f71d2aac85f5",
        "colab": {
          "base_uri": "https://localhost:8080/",
          "height": 1000
        }
      },
      "source": [
        "plt.figure()\n",
        "df.boxplot(['year'])\n",
        "\n",
        "plt.figure()\n",
        "df.boxplot(['price'])\n",
        "\n",
        "plt.figure()\n",
        "df.boxplot(['odometer',])\n",
        "\n",
        "plt.figure()\n",
        "df.boxplot(['lat',])\n",
        "\n",
        "plt.figure()\n",
        "df.boxplot(['long',])"
      ],
      "execution_count": 10,
      "outputs": [
        {
          "output_type": "execute_result",
          "data": {
            "text/plain": [
              "<matplotlib.axes._subplots.AxesSubplot at 0x7f5a231f8208>"
            ]
          },
          "metadata": {
            "tags": []
          },
          "execution_count": 10
        },
        {
          "output_type": "display_data",
          "data": {
            "image/png": "[encoded data removed]",
            "text/plain": [
              "<Figure size 432x288 with 1 Axes>"
            ]
          },
          "metadata": {
            "tags": [],
            "needs_background": "light"
          }
        },
        {
          "output_type": "display_data",
          "data": {
            "image/png": "[encoded data removed]",
            "text/plain": [
              "<Figure size 432x288 with 1 Axes>"
            ]
          },
          "metadata": {
            "tags": [],
            "needs_background": "light"
          }
        },
        {
          "output_type": "display_data",
          "data": {
            "image/png": "[encoded data removed]",
            "text/plain": [
              "<Figure size 432x288 with 1 Axes>"
            ]
          },
          "metadata": {
            "tags": [],
            "needs_background": "light"
          }
        },
        {
          "output_type": "display_data",
          "data": {
            "image/png": "[encoded data removed]",
            "text/plain": [
              "<Figure size 432x288 with 1 Axes>"
            ]
          },
          "metadata": {
            "tags": [],
            "needs_background": "light"
          }
        },
        {
          "output_type": "display_data",
          "data": {
            "image/png": "[encoded data removed]",
            "text/plain": [
              "<Figure size 432x288 with 1 Axes>"
            ]
          },
          "metadata": {
            "tags": [],
            "needs_background": "light"
          }
        }
      ]
    },
    {
      "cell_type": "markdown",
      "metadata": {
        "id": "nxmgtlClAtcG",
        "colab_type": "text"
      },
      "source": [
        "## **MENGHAPUS OUTLIER DI ATRIBUT PRICE**"
      ]
    },
    {
      "cell_type": "code",
      "metadata": {
        "id": "V0Xqy3hU5YxT",
        "colab_type": "code",
        "colab": {}
      },
      "source": [
        "df = df[df.price > 0]"
      ],
      "execution_count": 0,
      "outputs": []
    },
    {
      "cell_type": "markdown",
      "metadata": {
        "id": "xhXeCnRXvMAG",
        "colab_type": "text"
      },
      "source": [
        "## **Exploration data**"
      ]
    },
    {
      "cell_type": "code",
      "metadata": {
        "id": "6x1Z23zHvOf9",
        "colab_type": "code",
        "outputId": "847629ba-7241-4a7c-e17a-29c20c80cdd0",
        "colab": {
          "base_uri": "https://localhost:8080/",
          "height": 34
        }
      },
      "source": [
        "df.shape"
      ],
      "execution_count": 12,
      "outputs": [
        {
          "output_type": "execute_result",
          "data": {
            "text/plain": [
              "(17408, 20)"
            ]
          },
          "metadata": {
            "tags": []
          },
          "execution_count": 12
        }
      ]
    },
    {
      "cell_type": "code",
      "metadata": {
        "id": "2n4sn0R7Us2-",
        "colab_type": "code",
        "outputId": "deb29b61-bb57-4322-d602-53fcc26d6d9f",
        "colab": {
          "base_uri": "https://localhost:8080/",
          "height": 381
        }
      },
      "source": [
        "df.dtypes"
      ],
      "execution_count": 13,
      "outputs": [
        {
          "output_type": "execute_result",
          "data": {
            "text/plain": [
              "id                int64\n",
              "region           object\n",
              "price             int64\n",
              "year            float64\n",
              "manufacturer     object\n",
              "model            object\n",
              "condition        object\n",
              "cylinders        object\n",
              "fuel             object\n",
              "odometer        float64\n",
              "title_status     object\n",
              "transmission     object\n",
              "vin              object\n",
              "drive            object\n",
              "size             object\n",
              "type             object\n",
              "paint_color      object\n",
              "state            object\n",
              "lat             float64\n",
              "long            float64\n",
              "dtype: object"
            ]
          },
          "metadata": {
            "tags": []
          },
          "execution_count": 13
        }
      ]
    },
    {
      "cell_type": "code",
      "metadata": {
        "id": "sGaBpWb74ID3",
        "colab_type": "code",
        "outputId": "5de08742-4e77-469a-e109-f3b0b5b449e5",
        "colab": {
          "base_uri": "https://localhost:8080/",
          "height": 294
        }
      },
      "source": [
        "df.describe()"
      ],
      "execution_count": 14,
      "outputs": [
        {
          "output_type": "execute_result",
          "data": {
            "text/html": [
              "<div>\n",
              "<style scoped>\n",
              "    .dataframe tbody tr th:only-of-type {\n",
              "        vertical-align: middle;\n",
              "    }\n",
              "\n",
              "    .dataframe tbody tr th {\n",
              "        vertical-align: top;\n",
              "    }\n",
              "\n",
              "    .dataframe thead th {\n",
              "        text-align: right;\n",
              "    }\n",
              "</style>\n",
              "<table border=\"1\" class=\"dataframe\">\n",
              "  <thead>\n",
              "    <tr style=\"text-align: right;\">\n",
              "      <th></th>\n",
              "      <th>id</th>\n",
              "      <th>price</th>\n",
              "      <th>year</th>\n",
              "      <th>odometer</th>\n",
              "      <th>lat</th>\n",
              "      <th>long</th>\n",
              "    </tr>\n",
              "  </thead>\n",
              "  <tbody>\n",
              "    <tr>\n",
              "      <th>count</th>\n",
              "      <td>1.740800e+04</td>\n",
              "      <td>1.740800e+04</td>\n",
              "      <td>17408.000000</td>\n",
              "      <td>1.740800e+04</td>\n",
              "      <td>17408.000000</td>\n",
              "      <td>17408.000000</td>\n",
              "    </tr>\n",
              "    <tr>\n",
              "      <th>mean</th>\n",
              "      <td>7.043212e+09</td>\n",
              "      <td>8.798878e+04</td>\n",
              "      <td>2009.345242</td>\n",
              "      <td>1.024656e+05</td>\n",
              "      <td>40.572577</td>\n",
              "      <td>-86.904214</td>\n",
              "    </tr>\n",
              "    <tr>\n",
              "      <th>std</th>\n",
              "      <td>4.704549e+06</td>\n",
              "      <td>8.935022e+06</td>\n",
              "      <td>8.133930</td>\n",
              "      <td>7.763948e+04</td>\n",
              "      <td>4.509480</td>\n",
              "      <td>18.567203</td>\n",
              "    </tr>\n",
              "    <tr>\n",
              "      <th>min</th>\n",
              "      <td>7.032597e+09</td>\n",
              "      <td>1.000000e+00</td>\n",
              "      <td>1917.000000</td>\n",
              "      <td>0.000000e+00</td>\n",
              "      <td>-51.812200</td>\n",
              "      <td>-155.901000</td>\n",
              "    </tr>\n",
              "    <tr>\n",
              "      <th>25%</th>\n",
              "      <td>7.040080e+09</td>\n",
              "      <td>5.695000e+03</td>\n",
              "      <td>2006.000000</td>\n",
              "      <td>6.045600e+04</td>\n",
              "      <td>37.289500</td>\n",
              "      <td>-84.411800</td>\n",
              "    </tr>\n",
              "    <tr>\n",
              "      <th>50%</th>\n",
              "      <td>7.043899e+09</td>\n",
              "      <td>1.049500e+04</td>\n",
              "      <td>2011.000000</td>\n",
              "      <td>9.916435e+04</td>\n",
              "      <td>38.273500</td>\n",
              "      <td>-77.609400</td>\n",
              "    </tr>\n",
              "    <tr>\n",
              "      <th>75%</th>\n",
              "      <td>7.047130e+09</td>\n",
              "      <td>1.899000e+04</td>\n",
              "      <td>2015.000000</td>\n",
              "      <td>1.315405e+05</td>\n",
              "      <td>44.457800</td>\n",
              "      <td>-76.243700</td>\n",
              "    </tr>\n",
              "    <tr>\n",
              "      <th>max</th>\n",
              "      <td>7.050101e+09</td>\n",
              "      <td>1.172420e+09</td>\n",
              "      <td>2020.000000</td>\n",
              "      <td>2.500005e+06</td>\n",
              "      <td>59.746600</td>\n",
              "      <td>9.095700</td>\n",
              "    </tr>\n",
              "  </tbody>\n",
              "</table>\n",
              "</div>"
            ],
            "text/plain": [
              "                 id         price  ...           lat          long\n",
              "count  1.740800e+04  1.740800e+04  ...  17408.000000  17408.000000\n",
              "mean   7.043212e+09  8.798878e+04  ...     40.572577    -86.904214\n",
              "std    4.704549e+06  8.935022e+06  ...      4.509480     18.567203\n",
              "min    7.032597e+09  1.000000e+00  ...    -51.812200   -155.901000\n",
              "25%    7.040080e+09  5.695000e+03  ...     37.289500    -84.411800\n",
              "50%    7.043899e+09  1.049500e+04  ...     38.273500    -77.609400\n",
              "75%    7.047130e+09  1.899000e+04  ...     44.457800    -76.243700\n",
              "max    7.050101e+09  1.172420e+09  ...     59.746600      9.095700\n",
              "\n",
              "[8 rows x 6 columns]"
            ]
          },
          "metadata": {
            "tags": []
          },
          "execution_count": 14
        }
      ]
    },
    {
      "cell_type": "code",
      "metadata": {
        "id": "KOM7EiZk4WwD",
        "colab_type": "code",
        "outputId": "2acb7af4-5b0a-4417-88e4-fc72c03d0e5f",
        "colab": {
          "base_uri": "https://localhost:8080/",
          "height": 202
        }
      },
      "source": [
        "df.head()"
      ],
      "execution_count": 15,
      "outputs": [
        {
          "output_type": "execute_result",
          "data": {
            "text/html": [
              "<div>\n",
              "<style scoped>\n",
              "    .dataframe tbody tr th:only-of-type {\n",
              "        vertical-align: middle;\n",
              "    }\n",
              "\n",
              "    .dataframe tbody tr th {\n",
              "        vertical-align: top;\n",
              "    }\n",
              "\n",
              "    .dataframe thead th {\n",
              "        text-align: right;\n",
              "    }\n",
              "</style>\n",
              "<table border=\"1\" class=\"dataframe\">\n",
              "  <thead>\n",
              "    <tr style=\"text-align: right;\">\n",
              "      <th></th>\n",
              "      <th>id</th>\n",
              "      <th>region</th>\n",
              "      <th>price</th>\n",
              "      <th>year</th>\n",
              "      <th>manufacturer</th>\n",
              "      <th>model</th>\n",
              "      <th>condition</th>\n",
              "      <th>cylinders</th>\n",
              "      <th>fuel</th>\n",
              "      <th>odometer</th>\n",
              "      <th>title_status</th>\n",
              "      <th>transmission</th>\n",
              "      <th>vin</th>\n",
              "      <th>drive</th>\n",
              "      <th>size</th>\n",
              "      <th>type</th>\n",
              "      <th>paint_color</th>\n",
              "      <th>state</th>\n",
              "      <th>lat</th>\n",
              "      <th>long</th>\n",
              "    </tr>\n",
              "  </thead>\n",
              "  <tbody>\n",
              "    <tr>\n",
              "      <th>0</th>\n",
              "      <td>7034441763</td>\n",
              "      <td>salt lake city</td>\n",
              "      <td>17899</td>\n",
              "      <td>2012.0</td>\n",
              "      <td>volkswagen</td>\n",
              "      <td>golf r</td>\n",
              "      <td>excellent</td>\n",
              "      <td>4 cylinders</td>\n",
              "      <td>gas</td>\n",
              "      <td>63500.0</td>\n",
              "      <td>clean</td>\n",
              "      <td>manual</td>\n",
              "      <td>WVWPF7AJ6CW316713</td>\n",
              "      <td>4wd</td>\n",
              "      <td>compact</td>\n",
              "      <td>hatchback</td>\n",
              "      <td>black</td>\n",
              "      <td>ut</td>\n",
              "      <td>40.7372</td>\n",
              "      <td>-111.858</td>\n",
              "    </tr>\n",
              "    <tr>\n",
              "      <th>2</th>\n",
              "      <td>7034440588</td>\n",
              "      <td>salt lake city</td>\n",
              "      <td>46463</td>\n",
              "      <td>2015.0</td>\n",
              "      <td>gmc</td>\n",
              "      <td>sierra 1500</td>\n",
              "      <td>excellent</td>\n",
              "      <td>-</td>\n",
              "      <td>gas</td>\n",
              "      <td>7554.0</td>\n",
              "      <td>clean</td>\n",
              "      <td>automatic</td>\n",
              "      <td>3GTU2WEC6FG228025</td>\n",
              "      <td>4wd</td>\n",
              "      <td>-</td>\n",
              "      <td>-</td>\n",
              "      <td>white</td>\n",
              "      <td>ut</td>\n",
              "      <td>40.5881</td>\n",
              "      <td>-111.884</td>\n",
              "    </tr>\n",
              "    <tr>\n",
              "      <th>4</th>\n",
              "      <td>7034406932</td>\n",
              "      <td>salt lake city</td>\n",
              "      <td>49999</td>\n",
              "      <td>2018.0</td>\n",
              "      <td>ford</td>\n",
              "      <td>f-450</td>\n",
              "      <td>-</td>\n",
              "      <td>-</td>\n",
              "      <td>diesel</td>\n",
              "      <td>70150.0</td>\n",
              "      <td>clean</td>\n",
              "      <td>automatic</td>\n",
              "      <td>1FT8W4DT8GEA90427</td>\n",
              "      <td>4wd</td>\n",
              "      <td>-</td>\n",
              "      <td>pickup</td>\n",
              "      <td>white</td>\n",
              "      <td>ut</td>\n",
              "      <td>40.3744</td>\n",
              "      <td>-104.694</td>\n",
              "    </tr>\n",
              "    <tr>\n",
              "      <th>5</th>\n",
              "      <td>7034406582</td>\n",
              "      <td>salt lake city</td>\n",
              "      <td>13999</td>\n",
              "      <td>2009.0</td>\n",
              "      <td>ram</td>\n",
              "      <td>-</td>\n",
              "      <td>-</td>\n",
              "      <td>-</td>\n",
              "      <td>gas</td>\n",
              "      <td>120057.0</td>\n",
              "      <td>clean</td>\n",
              "      <td>automatic</td>\n",
              "      <td>1D3HV18P89S777871</td>\n",
              "      <td>4wd</td>\n",
              "      <td>-</td>\n",
              "      <td>pickup</td>\n",
              "      <td>silver</td>\n",
              "      <td>ut</td>\n",
              "      <td>40.3744</td>\n",
              "      <td>-104.694</td>\n",
              "    </tr>\n",
              "    <tr>\n",
              "      <th>6</th>\n",
              "      <td>7034405619</td>\n",
              "      <td>salt lake city</td>\n",
              "      <td>34500</td>\n",
              "      <td>2017.0</td>\n",
              "      <td>ford</td>\n",
              "      <td>f-350</td>\n",
              "      <td>-</td>\n",
              "      <td>-</td>\n",
              "      <td>diesel</td>\n",
              "      <td>95484.0</td>\n",
              "      <td>clean</td>\n",
              "      <td>automatic</td>\n",
              "      <td>1FT8W3BT2HEE98744</td>\n",
              "      <td>4wd</td>\n",
              "      <td>-</td>\n",
              "      <td>pickup</td>\n",
              "      <td>white</td>\n",
              "      <td>ut</td>\n",
              "      <td>40.3744</td>\n",
              "      <td>-104.694</td>\n",
              "    </tr>\n",
              "  </tbody>\n",
              "</table>\n",
              "</div>"
            ],
            "text/plain": [
              "           id          region  price  ...  state      lat     long\n",
              "0  7034441763  salt lake city  17899  ...     ut  40.7372 -111.858\n",
              "2  7034440588  salt lake city  46463  ...     ut  40.5881 -111.884\n",
              "4  7034406932  salt lake city  49999  ...     ut  40.3744 -104.694\n",
              "5  7034406582  salt lake city  13999  ...     ut  40.3744 -104.694\n",
              "6  7034405619  salt lake city  34500  ...     ut  40.3744 -104.694\n",
              "\n",
              "[5 rows x 20 columns]"
            ]
          },
          "metadata": {
            "tags": []
          },
          "execution_count": 15
        }
      ]
    },
    {
      "cell_type": "markdown",
      "metadata": {
        "id": "hkSmZXSWwPje",
        "colab_type": "text"
      },
      "source": [
        "## **Feature Selection**\n",
        "\n",
        "sebelum melakukan feature selection, saya melakukan encode pada feature yang bertipe data object. agar bisa dilihat korelasinya dengan class"
      ]
    },
    {
      "cell_type": "code",
      "metadata": {
        "id": "BD7h2VIGwPBV",
        "colab_type": "code",
        "outputId": "f1d3be4e-fa95-42dd-ee23-5c4a338173b6",
        "colab": {
          "base_uri": "https://localhost:8080/",
          "height": 381
        }
      },
      "source": [
        "kolom=df.columns.values.tolist()\n",
        "for x in kolom:\n",
        "    if df[x].dtype=='object':\n",
        "        df[x]=df[x].astype(str)\n",
        "df.dtypes"
      ],
      "execution_count": 16,
      "outputs": [
        {
          "output_type": "execute_result",
          "data": {
            "text/plain": [
              "id                int64\n",
              "region           object\n",
              "price             int64\n",
              "year            float64\n",
              "manufacturer     object\n",
              "model            object\n",
              "condition        object\n",
              "cylinders        object\n",
              "fuel             object\n",
              "odometer        float64\n",
              "title_status     object\n",
              "transmission     object\n",
              "vin              object\n",
              "drive            object\n",
              "size             object\n",
              "type             object\n",
              "paint_color      object\n",
              "state            object\n",
              "lat             float64\n",
              "long            float64\n",
              "dtype: object"
            ]
          },
          "metadata": {
            "tags": []
          },
          "execution_count": 16
        }
      ]
    },
    {
      "cell_type": "code",
      "metadata": {
        "id": "IjXYWeLdFIZP",
        "colab_type": "code",
        "outputId": "69376402-7734-4885-c981-e8dbad48cfd6",
        "colab": {
          "base_uri": "https://localhost:8080/",
          "height": 737
        }
      },
      "source": [
        "from sklearn.preprocessing import LabelEncoder\n",
        "\n",
        "encoder = LabelEncoder()\n",
        "\n",
        "num={}\n",
        "df_num=pd.DataFrame(num)\n",
        "\n",
        "print(kolom)\n",
        "\n",
        "print()\n",
        "for x in kolom:\n",
        "    print(x)\n",
        "    df_num[x]=encoder.fit_transform(df[x])\n",
        "\n",
        "df_num.head(10)"
      ],
      "execution_count": 17,
      "outputs": [
        {
          "output_type": "stream",
          "text": [
            "['id', 'region', 'price', 'year', 'manufacturer', 'model', 'condition', 'cylinders', 'fuel', 'odometer', 'title_status', 'transmission', 'vin', 'drive', 'size', 'type', 'paint_color', 'state', 'lat', 'long']\n",
            "\n",
            "id\n",
            "region\n",
            "price\n",
            "year\n",
            "manufacturer\n",
            "model\n",
            "condition\n",
            "cylinders\n",
            "fuel\n",
            "odometer\n",
            "title_status\n",
            "transmission\n",
            "vin\n",
            "drive\n",
            "size\n",
            "type\n",
            "paint_color\n",
            "state\n",
            "lat\n",
            "long\n"
          ],
          "name": "stdout"
        },
        {
          "output_type": "execute_result",
          "data": {
            "text/html": [
              "<div>\n",
              "<style scoped>\n",
              "    .dataframe tbody tr th:only-of-type {\n",
              "        vertical-align: middle;\n",
              "    }\n",
              "\n",
              "    .dataframe tbody tr th {\n",
              "        vertical-align: top;\n",
              "    }\n",
              "\n",
              "    .dataframe thead th {\n",
              "        text-align: right;\n",
              "    }\n",
              "</style>\n",
              "<table border=\"1\" class=\"dataframe\">\n",
              "  <thead>\n",
              "    <tr style=\"text-align: right;\">\n",
              "      <th></th>\n",
              "      <th>id</th>\n",
              "      <th>region</th>\n",
              "      <th>price</th>\n",
              "      <th>year</th>\n",
              "      <th>manufacturer</th>\n",
              "      <th>model</th>\n",
              "      <th>condition</th>\n",
              "      <th>cylinders</th>\n",
              "      <th>fuel</th>\n",
              "      <th>odometer</th>\n",
              "      <th>title_status</th>\n",
              "      <th>transmission</th>\n",
              "      <th>vin</th>\n",
              "      <th>drive</th>\n",
              "      <th>size</th>\n",
              "      <th>type</th>\n",
              "      <th>paint_color</th>\n",
              "      <th>state</th>\n",
              "      <th>lat</th>\n",
              "      <th>long</th>\n",
              "    </tr>\n",
              "  </thead>\n",
              "  <tbody>\n",
              "    <tr>\n",
              "      <th>0</th>\n",
              "      <td>1057</td>\n",
              "      <td>12</td>\n",
              "      <td>1289</td>\n",
              "      <td>77</td>\n",
              "      <td>38</td>\n",
              "      <td>2134</td>\n",
              "      <td>1</td>\n",
              "      <td>4</td>\n",
              "      <td>3</td>\n",
              "      <td>2909</td>\n",
              "      <td>0</td>\n",
              "      <td>2</td>\n",
              "      <td>7864</td>\n",
              "      <td>1</td>\n",
              "      <td>1</td>\n",
              "      <td>5</td>\n",
              "      <td>1</td>\n",
              "      <td>0</td>\n",
              "      <td>1577</td>\n",
              "      <td>306</td>\n",
              "    </tr>\n",
              "    <tr>\n",
              "      <th>1</th>\n",
              "      <td>1055</td>\n",
              "      <td>12</td>\n",
              "      <td>2126</td>\n",
              "      <td>80</td>\n",
              "      <td>13</td>\n",
              "      <td>3202</td>\n",
              "      <td>1</td>\n",
              "      <td>0</td>\n",
              "      <td>3</td>\n",
              "      <td>220</td>\n",
              "      <td>0</td>\n",
              "      <td>1</td>\n",
              "      <td>4550</td>\n",
              "      <td>1</td>\n",
              "      <td>0</td>\n",
              "      <td>0</td>\n",
              "      <td>11</td>\n",
              "      <td>0</td>\n",
              "      <td>1572</td>\n",
              "      <td>304</td>\n",
              "    </tr>\n",
              "    <tr>\n",
              "      <th>2</th>\n",
              "      <td>1051</td>\n",
              "      <td>12</td>\n",
              "      <td>2157</td>\n",
              "      <td>83</td>\n",
              "      <td>12</td>\n",
              "      <td>1789</td>\n",
              "      <td>0</td>\n",
              "      <td>0</td>\n",
              "      <td>1</td>\n",
              "      <td>3265</td>\n",
              "      <td>0</td>\n",
              "      <td>1</td>\n",
              "      <td>1333</td>\n",
              "      <td>1</td>\n",
              "      <td>0</td>\n",
              "      <td>9</td>\n",
              "      <td>11</td>\n",
              "      <td>0</td>\n",
              "      <td>1568</td>\n",
              "      <td>319</td>\n",
              "    </tr>\n",
              "    <tr>\n",
              "      <th>3</th>\n",
              "      <td>1049</td>\n",
              "      <td>12</td>\n",
              "      <td>1042</td>\n",
              "      <td>73</td>\n",
              "      <td>32</td>\n",
              "      <td>0</td>\n",
              "      <td>0</td>\n",
              "      <td>0</td>\n",
              "      <td>3</td>\n",
              "      <td>5941</td>\n",
              "      <td>0</td>\n",
              "      <td>1</td>\n",
              "      <td>612</td>\n",
              "      <td>1</td>\n",
              "      <td>0</td>\n",
              "      <td>9</td>\n",
              "      <td>10</td>\n",
              "      <td>0</td>\n",
              "      <td>1568</td>\n",
              "      <td>319</td>\n",
              "    </tr>\n",
              "    <tr>\n",
              "      <th>4</th>\n",
              "      <td>1048</td>\n",
              "      <td>12</td>\n",
              "      <td>1940</td>\n",
              "      <td>82</td>\n",
              "      <td>12</td>\n",
              "      <td>1766</td>\n",
              "      <td>0</td>\n",
              "      <td>0</td>\n",
              "      <td>1</td>\n",
              "      <td>4582</td>\n",
              "      <td>0</td>\n",
              "      <td>1</td>\n",
              "      <td>1300</td>\n",
              "      <td>1</td>\n",
              "      <td>0</td>\n",
              "      <td>9</td>\n",
              "      <td>11</td>\n",
              "      <td>0</td>\n",
              "      <td>1568</td>\n",
              "      <td>319</td>\n",
              "    </tr>\n",
              "    <tr>\n",
              "      <th>5</th>\n",
              "      <td>1047</td>\n",
              "      <td>12</td>\n",
              "      <td>1071</td>\n",
              "      <td>71</td>\n",
              "      <td>13</td>\n",
              "      <td>3201</td>\n",
              "      <td>0</td>\n",
              "      <td>0</td>\n",
              "      <td>3</td>\n",
              "      <td>4237</td>\n",
              "      <td>0</td>\n",
              "      <td>1</td>\n",
              "      <td>2622</td>\n",
              "      <td>1</td>\n",
              "      <td>0</td>\n",
              "      <td>9</td>\n",
              "      <td>0</td>\n",
              "      <td>0</td>\n",
              "      <td>1568</td>\n",
              "      <td>319</td>\n",
              "    </tr>\n",
              "    <tr>\n",
              "      <th>6</th>\n",
              "      <td>1045</td>\n",
              "      <td>12</td>\n",
              "      <td>918</td>\n",
              "      <td>78</td>\n",
              "      <td>12</td>\n",
              "      <td>1745</td>\n",
              "      <td>0</td>\n",
              "      <td>0</td>\n",
              "      <td>3</td>\n",
              "      <td>8445</td>\n",
              "      <td>0</td>\n",
              "      <td>1</td>\n",
              "      <td>1269</td>\n",
              "      <td>1</td>\n",
              "      <td>0</td>\n",
              "      <td>9</td>\n",
              "      <td>11</td>\n",
              "      <td>0</td>\n",
              "      <td>1568</td>\n",
              "      <td>319</td>\n",
              "    </tr>\n",
              "    <tr>\n",
              "      <th>7</th>\n",
              "      <td>1044</td>\n",
              "      <td>12</td>\n",
              "      <td>1940</td>\n",
              "      <td>77</td>\n",
              "      <td>32</td>\n",
              "      <td>0</td>\n",
              "      <td>0</td>\n",
              "      <td>0</td>\n",
              "      <td>1</td>\n",
              "      <td>6356</td>\n",
              "      <td>0</td>\n",
              "      <td>1</td>\n",
              "      <td>4218</td>\n",
              "      <td>1</td>\n",
              "      <td>0</td>\n",
              "      <td>9</td>\n",
              "      <td>10</td>\n",
              "      <td>0</td>\n",
              "      <td>1568</td>\n",
              "      <td>319</td>\n",
              "    </tr>\n",
              "    <tr>\n",
              "      <th>8</th>\n",
              "      <td>1043</td>\n",
              "      <td>12</td>\n",
              "      <td>391</td>\n",
              "      <td>58</td>\n",
              "      <td>12</td>\n",
              "      <td>1745</td>\n",
              "      <td>0</td>\n",
              "      <td>0</td>\n",
              "      <td>3</td>\n",
              "      <td>7733</td>\n",
              "      <td>0</td>\n",
              "      <td>2</td>\n",
              "      <td>1577</td>\n",
              "      <td>1</td>\n",
              "      <td>3</td>\n",
              "      <td>9</td>\n",
              "      <td>11</td>\n",
              "      <td>0</td>\n",
              "      <td>1568</td>\n",
              "      <td>319</td>\n",
              "    </tr>\n",
              "    <tr>\n",
              "      <th>9</th>\n",
              "      <td>1042</td>\n",
              "      <td>12</td>\n",
              "      <td>1203</td>\n",
              "      <td>78</td>\n",
              "      <td>13</td>\n",
              "      <td>4010</td>\n",
              "      <td>0</td>\n",
              "      <td>0</td>\n",
              "      <td>5</td>\n",
              "      <td>7417</td>\n",
              "      <td>0</td>\n",
              "      <td>1</td>\n",
              "      <td>2420</td>\n",
              "      <td>1</td>\n",
              "      <td>0</td>\n",
              "      <td>1</td>\n",
              "      <td>10</td>\n",
              "      <td>0</td>\n",
              "      <td>1568</td>\n",
              "      <td>319</td>\n",
              "    </tr>\n",
              "  </tbody>\n",
              "</table>\n",
              "</div>"
            ],
            "text/plain": [
              "     id  region  price  year  ...  paint_color  state   lat  long\n",
              "0  1057      12   1289    77  ...            1      0  1577   306\n",
              "1  1055      12   2126    80  ...           11      0  1572   304\n",
              "2  1051      12   2157    83  ...           11      0  1568   319\n",
              "3  1049      12   1042    73  ...           10      0  1568   319\n",
              "4  1048      12   1940    82  ...           11      0  1568   319\n",
              "5  1047      12   1071    71  ...            0      0  1568   319\n",
              "6  1045      12    918    78  ...           11      0  1568   319\n",
              "7  1044      12   1940    77  ...           10      0  1568   319\n",
              "8  1043      12    391    58  ...           11      0  1568   319\n",
              "9  1042      12   1203    78  ...           10      0  1568   319\n",
              "\n",
              "[10 rows x 20 columns]"
            ]
          },
          "metadata": {
            "tags": []
          },
          "execution_count": 17
        }
      ]
    },
    {
      "cell_type": "code",
      "metadata": {
        "id": "wUGpPNJ85u3I",
        "colab_type": "code",
        "colab": {}
      },
      "source": [
        "import seaborn as sns\n",
        "sns.set_style(\"whitegrid\")\n",
        "import matplotlib.pyplot as plt\n",
        "%matplotlib inline  "
      ],
      "execution_count": 0,
      "outputs": []
    },
    {
      "cell_type": "code",
      "metadata": {
        "id": "0SgibkDb5yfx",
        "colab_type": "code",
        "outputId": "5f688d00-9a21-463d-f3ab-adb38f3d9dea",
        "colab": {
          "base_uri": "https://localhost:8080/",
          "height": 1000
        }
      },
      "source": [
        "mpl.rcParams['figure.dpi'] = 200\n",
        "corr = df.select_dtypes(include = ['float64', 'int64']).iloc[:, :].corr()\n",
        "plt.figure(figsize=(10, 10))\n",
        "ax = sns.heatmap(corr, vmax=1, square=True)\n",
        "# ax.set_xticklabels(rotation=30)\n",
        "plt.xticks(rotation=45)\n",
        "plt.yticks(rotation=45)"
      ],
      "execution_count": 19,
      "outputs": [
        {
          "output_type": "execute_result",
          "data": {
            "text/plain": [
              "(array([0.5, 1.5, 2.5, 3.5, 4.5, 5.5]),\n",
              " <a list of 6 Text major ticklabel objects>)"
            ]
          },
          "metadata": {
            "tags": []
          },
          "execution_count": 19
        },
        {
          "output_type": "display_data",
          "data": {
            "image/png": "[encoded data removed]",
            "text/plain": [
              "<Figure size 2000x2000 with 2 Axes>"
            ]
          },
          "metadata": {
            "tags": [],
            "needs_background": "light"
          }
        }
      ]
    },
    {
      "cell_type": "code",
      "metadata": {
        "id": "79uu7l_CQjC8",
        "colab_type": "code",
        "outputId": "05f11685-a5b0-4450-b93c-e0d56e2f3ff1",
        "colab": {
          "base_uri": "https://localhost:8080/",
          "height": 785
        }
      },
      "source": [
        "X = df_num.loc[:, df_num.columns != 'title_status'] #independent columns\n",
        "Y = df_num.iloc[:,-10]    #target column \n",
        "\n",
        "\n",
        "from sklearn.ensemble import ExtraTreesClassifier\n",
        "import matplotlib.pyplot as plt\n",
        "\n",
        "model = ExtraTreesClassifier()\n",
        "model.fit(X,Y)\n",
        "\n",
        "print(model.feature_importances_) \n",
        "\n",
        "#plot graph of feature importances for better visualization\n",
        "feat_importances = pd.Series(model.feature_importances_, index=X.columns)\n",
        "feat_importances.nlargest(11).plot(kind='barh')\n",
        "\n",
        "plt.show()"
      ],
      "execution_count": 20,
      "outputs": [
        {
          "output_type": "stream",
          "text": [
            "[0.05924418 0.04392048 0.07558022 0.06506486 0.06214975 0.05900289\n",
            " 0.0557938  0.04187348 0.0153166  0.07686641 0.02151764 0.04774931\n",
            " 0.03594674 0.04392641 0.05003711 0.04764216 0.02143254 0.08846295\n",
            " 0.08847248]\n"
          ],
          "name": "stdout"
        },
        {
          "output_type": "display_data",
          "data": {
            "image/png": "[encoded data removed]",
            "text/plain": [
              "<Figure size 1200x800 with 1 Axes>"
            ]
          },
          "metadata": {
            "tags": [],
            "needs_background": "light"
          }
        }
      ]
    },
    {
      "cell_type": "code",
      "metadata": {
        "id": "UOgieuPOzmfl",
        "colab_type": "code",
        "colab": {}
      },
      "source": [
        "# melakukan drop pada feature yg tidak digunakan\n",
        "df2 = df_num.drop(columns=['region','cylinders','fuel','transmission','drive','size','paint_color','state']) "
      ],
      "execution_count": 0,
      "outputs": []
    },
    {
      "cell_type": "code",
      "metadata": {
        "id": "BSgHVpvXwvHN",
        "colab_type": "code",
        "outputId": "14e2a129-70cb-4388-db28-e567e1857ace",
        "colab": {
          "base_uri": "https://localhost:8080/",
          "height": 416
        }
      },
      "source": [
        "df2"
      ],
      "execution_count": 22,
      "outputs": [
        {
          "output_type": "execute_result",
          "data": {
            "text/html": [
              "<div>\n",
              "<style scoped>\n",
              "    .dataframe tbody tr th:only-of-type {\n",
              "        vertical-align: middle;\n",
              "    }\n",
              "\n",
              "    .dataframe tbody tr th {\n",
              "        vertical-align: top;\n",
              "    }\n",
              "\n",
              "    .dataframe thead th {\n",
              "        text-align: right;\n",
              "    }\n",
              "</style>\n",
              "<table border=\"1\" class=\"dataframe\">\n",
              "  <thead>\n",
              "    <tr style=\"text-align: right;\">\n",
              "      <th></th>\n",
              "      <th>id</th>\n",
              "      <th>price</th>\n",
              "      <th>year</th>\n",
              "      <th>manufacturer</th>\n",
              "      <th>model</th>\n",
              "      <th>condition</th>\n",
              "      <th>odometer</th>\n",
              "      <th>title_status</th>\n",
              "      <th>vin</th>\n",
              "      <th>type</th>\n",
              "      <th>lat</th>\n",
              "      <th>long</th>\n",
              "    </tr>\n",
              "  </thead>\n",
              "  <tbody>\n",
              "    <tr>\n",
              "      <th>0</th>\n",
              "      <td>1057</td>\n",
              "      <td>1289</td>\n",
              "      <td>77</td>\n",
              "      <td>38</td>\n",
              "      <td>2134</td>\n",
              "      <td>1</td>\n",
              "      <td>2909</td>\n",
              "      <td>0</td>\n",
              "      <td>7864</td>\n",
              "      <td>5</td>\n",
              "      <td>1577</td>\n",
              "      <td>306</td>\n",
              "    </tr>\n",
              "    <tr>\n",
              "      <th>1</th>\n",
              "      <td>1055</td>\n",
              "      <td>2126</td>\n",
              "      <td>80</td>\n",
              "      <td>13</td>\n",
              "      <td>3202</td>\n",
              "      <td>1</td>\n",
              "      <td>220</td>\n",
              "      <td>0</td>\n",
              "      <td>4550</td>\n",
              "      <td>0</td>\n",
              "      <td>1572</td>\n",
              "      <td>304</td>\n",
              "    </tr>\n",
              "    <tr>\n",
              "      <th>2</th>\n",
              "      <td>1051</td>\n",
              "      <td>2157</td>\n",
              "      <td>83</td>\n",
              "      <td>12</td>\n",
              "      <td>1789</td>\n",
              "      <td>0</td>\n",
              "      <td>3265</td>\n",
              "      <td>0</td>\n",
              "      <td>1333</td>\n",
              "      <td>9</td>\n",
              "      <td>1568</td>\n",
              "      <td>319</td>\n",
              "    </tr>\n",
              "    <tr>\n",
              "      <th>3</th>\n",
              "      <td>1049</td>\n",
              "      <td>1042</td>\n",
              "      <td>73</td>\n",
              "      <td>32</td>\n",
              "      <td>0</td>\n",
              "      <td>0</td>\n",
              "      <td>5941</td>\n",
              "      <td>0</td>\n",
              "      <td>612</td>\n",
              "      <td>9</td>\n",
              "      <td>1568</td>\n",
              "      <td>319</td>\n",
              "    </tr>\n",
              "    <tr>\n",
              "      <th>4</th>\n",
              "      <td>1048</td>\n",
              "      <td>1940</td>\n",
              "      <td>82</td>\n",
              "      <td>12</td>\n",
              "      <td>1766</td>\n",
              "      <td>0</td>\n",
              "      <td>4582</td>\n",
              "      <td>0</td>\n",
              "      <td>1300</td>\n",
              "      <td>9</td>\n",
              "      <td>1568</td>\n",
              "      <td>319</td>\n",
              "    </tr>\n",
              "    <tr>\n",
              "      <th>...</th>\n",
              "      <td>...</td>\n",
              "      <td>...</td>\n",
              "      <td>...</td>\n",
              "      <td>...</td>\n",
              "      <td>...</td>\n",
              "      <td>...</td>\n",
              "      <td>...</td>\n",
              "      <td>...</td>\n",
              "      <td>...</td>\n",
              "      <td>...</td>\n",
              "      <td>...</td>\n",
              "      <td>...</td>\n",
              "    </tr>\n",
              "    <tr>\n",
              "      <th>17403</th>\n",
              "      <td>15434</td>\n",
              "      <td>1637</td>\n",
              "      <td>82</td>\n",
              "      <td>35</td>\n",
              "      <td>3912</td>\n",
              "      <td>0</td>\n",
              "      <td>1138</td>\n",
              "      <td>0</td>\n",
              "      <td>6143</td>\n",
              "      <td>10</td>\n",
              "      <td>2046</td>\n",
              "      <td>203</td>\n",
              "    </tr>\n",
              "    <tr>\n",
              "      <th>17404</th>\n",
              "      <td>15433</td>\n",
              "      <td>2157</td>\n",
              "      <td>81</td>\n",
              "      <td>32</td>\n",
              "      <td>1334</td>\n",
              "      <td>0</td>\n",
              "      <td>1940</td>\n",
              "      <td>0</td>\n",
              "      <td>4235</td>\n",
              "      <td>11</td>\n",
              "      <td>2046</td>\n",
              "      <td>203</td>\n",
              "    </tr>\n",
              "    <tr>\n",
              "      <th>17405</th>\n",
              "      <td>15432</td>\n",
              "      <td>894</td>\n",
              "      <td>83</td>\n",
              "      <td>29</td>\n",
              "      <td>3160</td>\n",
              "      <td>0</td>\n",
              "      <td>1320</td>\n",
              "      <td>0</td>\n",
              "      <td>4622</td>\n",
              "      <td>10</td>\n",
              "      <td>2066</td>\n",
              "      <td>169</td>\n",
              "    </tr>\n",
              "    <tr>\n",
              "      <th>17406</th>\n",
              "      <td>15419</td>\n",
              "      <td>1081</td>\n",
              "      <td>82</td>\n",
              "      <td>37</td>\n",
              "      <td>1231</td>\n",
              "      <td>0</td>\n",
              "      <td>1167</td>\n",
              "      <td>0</td>\n",
              "      <td>3984</td>\n",
              "      <td>10</td>\n",
              "      <td>2066</td>\n",
              "      <td>169</td>\n",
              "    </tr>\n",
              "    <tr>\n",
              "      <th>17407</th>\n",
              "      <td>15389</td>\n",
              "      <td>1973</td>\n",
              "      <td>84</td>\n",
              "      <td>37</td>\n",
              "      <td>362</td>\n",
              "      <td>0</td>\n",
              "      <td>747</td>\n",
              "      <td>0</td>\n",
              "      <td>6675</td>\n",
              "      <td>1</td>\n",
              "      <td>2046</td>\n",
              "      <td>203</td>\n",
              "    </tr>\n",
              "  </tbody>\n",
              "</table>\n",
              "<p>17408 rows × 12 columns</p>\n",
              "</div>"
            ],
            "text/plain": [
              "          id  price  year  manufacturer  ...   vin  type   lat  long\n",
              "0       1057   1289    77            38  ...  7864     5  1577   306\n",
              "1       1055   2126    80            13  ...  4550     0  1572   304\n",
              "2       1051   2157    83            12  ...  1333     9  1568   319\n",
              "3       1049   1042    73            32  ...   612     9  1568   319\n",
              "4       1048   1940    82            12  ...  1300     9  1568   319\n",
              "...      ...    ...   ...           ...  ...   ...   ...   ...   ...\n",
              "17403  15434   1637    82            35  ...  6143    10  2046   203\n",
              "17404  15433   2157    81            32  ...  4235    11  2046   203\n",
              "17405  15432    894    83            29  ...  4622    10  2066   169\n",
              "17406  15419   1081    82            37  ...  3984    10  2066   169\n",
              "17407  15389   1973    84            37  ...  6675     1  2046   203\n",
              "\n",
              "[17408 rows x 12 columns]"
            ]
          },
          "metadata": {
            "tags": []
          },
          "execution_count": 22
        }
      ]
    },
    {
      "cell_type": "markdown",
      "metadata": {
        "id": "vVOpMlQYwlfv",
        "colab_type": "text"
      },
      "source": [
        "## **Unduh Dataset hasil eksplorasi(dataset untuk pemodelan)**"
      ]
    },
    {
      "cell_type": "code",
      "metadata": {
        "id": "i_NCrx8Lwreq",
        "colab_type": "code",
        "colab": {}
      },
      "source": [
        "df2.columns = ['id','price','year','manufacturer','model','condition','odometer','title_status','vin','type','lat','long']\n",
        "df2.to_csv('dataset_klasifikasi.csv',index = False)"
      ],
      "execution_count": 0,
      "outputs": []
    },
    {
      "cell_type": "markdown",
      "metadata": {
        "id": "85MPYLDQRnJ9",
        "colab_type": "text"
      },
      "source": [
        "# **KLASIFIKASI**\n",
        "\n"
      ]
    },
    {
      "cell_type": "code",
      "metadata": {
        "id": "vadkMO0Y0Jh1",
        "colab_type": "code",
        "outputId": "5f888e24-d636-4586-9217-ffb3fbbe79d1",
        "colab": {
          "base_uri": "https://localhost:8080/",
          "height": 416
        }
      },
      "source": [
        "df2"
      ],
      "execution_count": 24,
      "outputs": [
        {
          "output_type": "execute_result",
          "data": {
            "text/html": [
              "<div>\n",
              "<style scoped>\n",
              "    .dataframe tbody tr th:only-of-type {\n",
              "        vertical-align: middle;\n",
              "    }\n",
              "\n",
              "    .dataframe tbody tr th {\n",
              "        vertical-align: top;\n",
              "    }\n",
              "\n",
              "    .dataframe thead th {\n",
              "        text-align: right;\n",
              "    }\n",
              "</style>\n",
              "<table border=\"1\" class=\"dataframe\">\n",
              "  <thead>\n",
              "    <tr style=\"text-align: right;\">\n",
              "      <th></th>\n",
              "      <th>id</th>\n",
              "      <th>price</th>\n",
              "      <th>year</th>\n",
              "      <th>manufacturer</th>\n",
              "      <th>model</th>\n",
              "      <th>condition</th>\n",
              "      <th>odometer</th>\n",
              "      <th>title_status</th>\n",
              "      <th>vin</th>\n",
              "      <th>type</th>\n",
              "      <th>lat</th>\n",
              "      <th>long</th>\n",
              "    </tr>\n",
              "  </thead>\n",
              "  <tbody>\n",
              "    <tr>\n",
              "      <th>0</th>\n",
              "      <td>1057</td>\n",
              "      <td>1289</td>\n",
              "      <td>77</td>\n",
              "      <td>38</td>\n",
              "      <td>2134</td>\n",
              "      <td>1</td>\n",
              "      <td>2909</td>\n",
              "      <td>0</td>\n",
              "      <td>7864</td>\n",
              "      <td>5</td>\n",
              "      <td>1577</td>\n",
              "      <td>306</td>\n",
              "    </tr>\n",
              "    <tr>\n",
              "      <th>1</th>\n",
              "      <td>1055</td>\n",
              "      <td>2126</td>\n",
              "      <td>80</td>\n",
              "      <td>13</td>\n",
              "      <td>3202</td>\n",
              "      <td>1</td>\n",
              "      <td>220</td>\n",
              "      <td>0</td>\n",
              "      <td>4550</td>\n",
              "      <td>0</td>\n",
              "      <td>1572</td>\n",
              "      <td>304</td>\n",
              "    </tr>\n",
              "    <tr>\n",
              "      <th>2</th>\n",
              "      <td>1051</td>\n",
              "      <td>2157</td>\n",
              "      <td>83</td>\n",
              "      <td>12</td>\n",
              "      <td>1789</td>\n",
              "      <td>0</td>\n",
              "      <td>3265</td>\n",
              "      <td>0</td>\n",
              "      <td>1333</td>\n",
              "      <td>9</td>\n",
              "      <td>1568</td>\n",
              "      <td>319</td>\n",
              "    </tr>\n",
              "    <tr>\n",
              "      <th>3</th>\n",
              "      <td>1049</td>\n",
              "      <td>1042</td>\n",
              "      <td>73</td>\n",
              "      <td>32</td>\n",
              "      <td>0</td>\n",
              "      <td>0</td>\n",
              "      <td>5941</td>\n",
              "      <td>0</td>\n",
              "      <td>612</td>\n",
              "      <td>9</td>\n",
              "      <td>1568</td>\n",
              "      <td>319</td>\n",
              "    </tr>\n",
              "    <tr>\n",
              "      <th>4</th>\n",
              "      <td>1048</td>\n",
              "      <td>1940</td>\n",
              "      <td>82</td>\n",
              "      <td>12</td>\n",
              "      <td>1766</td>\n",
              "      <td>0</td>\n",
              "      <td>4582</td>\n",
              "      <td>0</td>\n",
              "      <td>1300</td>\n",
              "      <td>9</td>\n",
              "      <td>1568</td>\n",
              "      <td>319</td>\n",
              "    </tr>\n",
              "    <tr>\n",
              "      <th>...</th>\n",
              "      <td>...</td>\n",
              "      <td>...</td>\n",
              "      <td>...</td>\n",
              "      <td>...</td>\n",
              "      <td>...</td>\n",
              "      <td>...</td>\n",
              "      <td>...</td>\n",
              "      <td>...</td>\n",
              "      <td>...</td>\n",
              "      <td>...</td>\n",
              "      <td>...</td>\n",
              "      <td>...</td>\n",
              "    </tr>\n",
              "    <tr>\n",
              "      <th>17403</th>\n",
              "      <td>15434</td>\n",
              "      <td>1637</td>\n",
              "      <td>82</td>\n",
              "      <td>35</td>\n",
              "      <td>3912</td>\n",
              "      <td>0</td>\n",
              "      <td>1138</td>\n",
              "      <td>0</td>\n",
              "      <td>6143</td>\n",
              "      <td>10</td>\n",
              "      <td>2046</td>\n",
              "      <td>203</td>\n",
              "    </tr>\n",
              "    <tr>\n",
              "      <th>17404</th>\n",
              "      <td>15433</td>\n",
              "      <td>2157</td>\n",
              "      <td>81</td>\n",
              "      <td>32</td>\n",
              "      <td>1334</td>\n",
              "      <td>0</td>\n",
              "      <td>1940</td>\n",
              "      <td>0</td>\n",
              "      <td>4235</td>\n",
              "      <td>11</td>\n",
              "      <td>2046</td>\n",
              "      <td>203</td>\n",
              "    </tr>\n",
              "    <tr>\n",
              "      <th>17405</th>\n",
              "      <td>15432</td>\n",
              "      <td>894</td>\n",
              "      <td>83</td>\n",
              "      <td>29</td>\n",
              "      <td>3160</td>\n",
              "      <td>0</td>\n",
              "      <td>1320</td>\n",
              "      <td>0</td>\n",
              "      <td>4622</td>\n",
              "      <td>10</td>\n",
              "      <td>2066</td>\n",
              "      <td>169</td>\n",
              "    </tr>\n",
              "    <tr>\n",
              "      <th>17406</th>\n",
              "      <td>15419</td>\n",
              "      <td>1081</td>\n",
              "      <td>82</td>\n",
              "      <td>37</td>\n",
              "      <td>1231</td>\n",
              "      <td>0</td>\n",
              "      <td>1167</td>\n",
              "      <td>0</td>\n",
              "      <td>3984</td>\n",
              "      <td>10</td>\n",
              "      <td>2066</td>\n",
              "      <td>169</td>\n",
              "    </tr>\n",
              "    <tr>\n",
              "      <th>17407</th>\n",
              "      <td>15389</td>\n",
              "      <td>1973</td>\n",
              "      <td>84</td>\n",
              "      <td>37</td>\n",
              "      <td>362</td>\n",
              "      <td>0</td>\n",
              "      <td>747</td>\n",
              "      <td>0</td>\n",
              "      <td>6675</td>\n",
              "      <td>1</td>\n",
              "      <td>2046</td>\n",
              "      <td>203</td>\n",
              "    </tr>\n",
              "  </tbody>\n",
              "</table>\n",
              "<p>17408 rows × 12 columns</p>\n",
              "</div>"
            ],
            "text/plain": [
              "          id  price  year  manufacturer  ...   vin  type   lat  long\n",
              "0       1057   1289    77            38  ...  7864     5  1577   306\n",
              "1       1055   2126    80            13  ...  4550     0  1572   304\n",
              "2       1051   2157    83            12  ...  1333     9  1568   319\n",
              "3       1049   1042    73            32  ...   612     9  1568   319\n",
              "4       1048   1940    82            12  ...  1300     9  1568   319\n",
              "...      ...    ...   ...           ...  ...   ...   ...   ...   ...\n",
              "17403  15434   1637    82            35  ...  6143    10  2046   203\n",
              "17404  15433   2157    81            32  ...  4235    11  2046   203\n",
              "17405  15432    894    83            29  ...  4622    10  2066   169\n",
              "17406  15419   1081    82            37  ...  3984    10  2066   169\n",
              "17407  15389   1973    84            37  ...  6675     1  2046   203\n",
              "\n",
              "[17408 rows x 12 columns]"
            ]
          },
          "metadata": {
            "tags": []
          },
          "execution_count": 24
        }
      ]
    },
    {
      "cell_type": "code",
      "metadata": {
        "id": "D5MrgXOvwv0d",
        "colab_type": "code",
        "colab": {}
      },
      "source": [
        "# menentukan mana independet kolom dan target kolom(class)\n",
        "X = df2.loc[:, df2.columns != 'title_status'].values\n",
        "Y = df2.iloc[:,-5].values"
      ],
      "execution_count": 0,
      "outputs": []
    },
    {
      "cell_type": "code",
      "metadata": {
        "id": "9pAw-LGj047Q",
        "colab_type": "code",
        "colab": {}
      },
      "source": [
        "# Lalu data dipisah menjadi 80% data training dan 20% data testing\n",
        "# lalu tiap data di  X dan Y dipisah menjadi data training dan testing\n",
        "\n",
        "train_pct_index = int(0.8 * len(X))\n",
        "X_train, X_test = X[:train_pct_index], X[train_pct_index:]\n",
        "Y_train, Y_test = Y[:train_pct_index], Y[train_pct_index:]"
      ],
      "execution_count": 0,
      "outputs": []
    },
    {
      "cell_type": "code",
      "metadata": {
        "id": "c22Ed0fvzPL_",
        "colab_type": "code",
        "colab": {}
      },
      "source": [
        "# Ditahap ini dilakukan fit antara independet kolom(train dan test) dengan library \n",
        "\n",
        "from sklearn.preprocessing import StandardScaler\n",
        "scaler = StandardScaler()\n",
        "scaler.fit(X_train)\n",
        "\n",
        "X_train = scaler.transform(X_train)\n",
        "X_test = scaler.transform(X_test)"
      ],
      "execution_count": 0,
      "outputs": []
    },
    {
      "cell_type": "code",
      "metadata": {
        "id": "Nz_f0w--2KBl",
        "colab_type": "code",
        "outputId": "94fc4bc8-2c21-4496-e869-18bbd0981093",
        "colab": {
          "base_uri": "https://localhost:8080/",
          "height": 69
        }
      },
      "source": [
        "# Lalu dilakukan pemodelan dengan KNN\n",
        "\n",
        "from sklearn.neighbors import KNeighborsClassifier\n",
        "classifier = KNeighborsClassifier(n_neighbors=7)\n",
        "classifier.fit(X_train, Y_train)"
      ],
      "execution_count": 28,
      "outputs": [
        {
          "output_type": "execute_result",
          "data": {
            "text/plain": [
              "KNeighborsClassifier(algorithm='auto', leaf_size=30, metric='minkowski',\n",
              "                     metric_params=None, n_jobs=None, n_neighbors=7, p=2,\n",
              "                     weights='uniform')"
            ]
          },
          "metadata": {
            "tags": []
          },
          "execution_count": 28
        }
      ]
    },
    {
      "cell_type": "code",
      "metadata": {
        "id": "3U6TuBGp2M7m",
        "colab_type": "code",
        "colab": {}
      },
      "source": [
        "# dilakukan prediksi dengan Y(class) dengan hasil dari prediksi pada data testing\n",
        "\n",
        "Y_pred = classifier.predict(X_test)"
      ],
      "execution_count": 0,
      "outputs": []
    },
    {
      "cell_type": "code",
      "metadata": {
        "id": "954afzMS2PmI",
        "colab_type": "code",
        "outputId": "f4e04498-a636-40e2-d005-60f1ea84a4bc",
        "colab": {
          "base_uri": "https://localhost:8080/",
          "height": 34
        }
      },
      "source": [
        "# hasil prediksi\n",
        "\n",
        "Y_pred"
      ],
      "execution_count": 30,
      "outputs": [
        {
          "output_type": "execute_result",
          "data": {
            "text/plain": [
              "array([0, 0, 0, ..., 0, 0, 0])"
            ]
          },
          "metadata": {
            "tags": []
          },
          "execution_count": 30
        }
      ]
    },
    {
      "cell_type": "markdown",
      "metadata": {
        "id": "j8kK_eZfbG6L",
        "colab_type": "text"
      },
      "source": [
        "## **Evaluasi**"
      ]
    },
    {
      "cell_type": "code",
      "metadata": {
        "id": "2HW4_vpCbJ8A",
        "colab_type": "code",
        "outputId": "aa997248-f91d-4ade-f4b9-9013b379915b",
        "colab": {
          "base_uri": "https://localhost:8080/",
          "height": 233
        }
      },
      "source": [
        "Y_test = pd.Series(Y_test, name='Actual')\n",
        "Y_pred = pd.Series(Y_pred, name='Predicted')\n",
        "fitur2_confusion = pd.crosstab(Y_test, Y_pred)\n",
        "\n",
        "fitur2_confusion\n"
      ],
      "execution_count": 31,
      "outputs": [
        {
          "output_type": "execute_result",
          "data": {
            "text/html": [
              "<div>\n",
              "<style scoped>\n",
              "    .dataframe tbody tr th:only-of-type {\n",
              "        vertical-align: middle;\n",
              "    }\n",
              "\n",
              "    .dataframe tbody tr th {\n",
              "        vertical-align: top;\n",
              "    }\n",
              "\n",
              "    .dataframe thead th {\n",
              "        text-align: right;\n",
              "    }\n",
              "</style>\n",
              "<table border=\"1\" class=\"dataframe\">\n",
              "  <thead>\n",
              "    <tr style=\"text-align: right;\">\n",
              "      <th>Predicted</th>\n",
              "      <th>0</th>\n",
              "      <th>5</th>\n",
              "    </tr>\n",
              "    <tr>\n",
              "      <th>Actual</th>\n",
              "      <th></th>\n",
              "      <th></th>\n",
              "    </tr>\n",
              "  </thead>\n",
              "  <tbody>\n",
              "    <tr>\n",
              "      <th>0</th>\n",
              "      <td>3363</td>\n",
              "      <td>4</td>\n",
              "    </tr>\n",
              "    <tr>\n",
              "      <th>1</th>\n",
              "      <td>12</td>\n",
              "      <td>0</td>\n",
              "    </tr>\n",
              "    <tr>\n",
              "      <th>2</th>\n",
              "      <td>2</td>\n",
              "      <td>0</td>\n",
              "    </tr>\n",
              "    <tr>\n",
              "      <th>4</th>\n",
              "      <td>93</td>\n",
              "      <td>0</td>\n",
              "    </tr>\n",
              "    <tr>\n",
              "      <th>5</th>\n",
              "      <td>8</td>\n",
              "      <td>0</td>\n",
              "    </tr>\n",
              "  </tbody>\n",
              "</table>\n",
              "</div>"
            ],
            "text/plain": [
              "Predicted     0  5\n",
              "Actual            \n",
              "0          3363  4\n",
              "1            12  0\n",
              "2             2  0\n",
              "4            93  0\n",
              "5             8  0"
            ]
          },
          "metadata": {
            "tags": []
          },
          "execution_count": 31
        }
      ]
    },
    {
      "cell_type": "code",
      "metadata": {
        "id": "M277Im7J2TzD",
        "colab_type": "code",
        "outputId": "cc44d58b-3792-4c54-d249-1a47dfbb12fc",
        "colab": {
          "base_uri": "https://localhost:8080/",
          "height": 346
        }
      },
      "source": [
        "#menampilkan confusion matriks dari hasil prediksi dan nilai akurasi\n",
        "\n",
        "from sklearn.metrics import classification_report, confusion_matrix\n",
        "print(confusion_matrix(Y_test, Y_pred))\n",
        "print(classification_report(Y_test, Y_pred))"
      ],
      "execution_count": 32,
      "outputs": [
        {
          "output_type": "stream",
          "text": [
            "[[3363    0    0    0    4]\n",
            " [  12    0    0    0    0]\n",
            " [   2    0    0    0    0]\n",
            " [  93    0    0    0    0]\n",
            " [   8    0    0    0    0]]\n",
            "              precision    recall  f1-score   support\n",
            "\n",
            "           0       0.97      1.00      0.98      3367\n",
            "           1       0.00      0.00      0.00        12\n",
            "           2       0.00      0.00      0.00         2\n",
            "           4       0.00      0.00      0.00        93\n",
            "           5       0.00      0.00      0.00         8\n",
            "\n",
            "    accuracy                           0.97      3482\n",
            "   macro avg       0.19      0.20      0.20      3482\n",
            "weighted avg       0.94      0.97      0.95      3482\n",
            "\n"
          ],
          "name": "stdout"
        },
        {
          "output_type": "stream",
          "text": [
            "/usr/local/lib/python3.6/dist-packages/sklearn/metrics/_classification.py:1272: UndefinedMetricWarning: Precision and F-score are ill-defined and being set to 0.0 in labels with no predicted samples. Use `zero_division` parameter to control this behavior.\n",
            "  _warn_prf(average, modifier, msg_start, len(result))\n"
          ],
          "name": "stderr"
        }
      ]
    },
    {
      "cell_type": "markdown",
      "metadata": {
        "id": "876AEHZU7R9c",
        "colab_type": "text"
      },
      "source": [
        "# **EKSPERIMEN**\n",
        "\n",
        "Ditahap ini saya melakukan eksperimen, bagaimana jika tidak melakukan tahap feature selection. Sehingga pemilihan feature saya lakukan tanpa tahap feature selection. Dan semua feature digunakan dengan title_status sebagai class"
      ]
    },
    {
      "cell_type": "code",
      "metadata": {
        "id": "I1dh4a075rA5",
        "colab_type": "code",
        "outputId": "41e2cb29-b9d3-423c-e250-7fa1691f8dc4",
        "colab": {
          "base_uri": "https://localhost:8080/",
          "height": 416
        }
      },
      "source": [
        "df_num"
      ],
      "execution_count": 35,
      "outputs": [
        {
          "output_type": "execute_result",
          "data": {
            "text/html": [
              "<div>\n",
              "<style scoped>\n",
              "    .dataframe tbody tr th:only-of-type {\n",
              "        vertical-align: middle;\n",
              "    }\n",
              "\n",
              "    .dataframe tbody tr th {\n",
              "        vertical-align: top;\n",
              "    }\n",
              "\n",
              "    .dataframe thead th {\n",
              "        text-align: right;\n",
              "    }\n",
              "</style>\n",
              "<table border=\"1\" class=\"dataframe\">\n",
              "  <thead>\n",
              "    <tr style=\"text-align: right;\">\n",
              "      <th></th>\n",
              "      <th>id</th>\n",
              "      <th>region</th>\n",
              "      <th>price</th>\n",
              "      <th>year</th>\n",
              "      <th>manufacturer</th>\n",
              "      <th>model</th>\n",
              "      <th>condition</th>\n",
              "      <th>cylinders</th>\n",
              "      <th>fuel</th>\n",
              "      <th>odometer</th>\n",
              "      <th>title_status</th>\n",
              "      <th>transmission</th>\n",
              "      <th>vin</th>\n",
              "      <th>drive</th>\n",
              "      <th>size</th>\n",
              "      <th>type</th>\n",
              "      <th>paint_color</th>\n",
              "      <th>state</th>\n",
              "      <th>lat</th>\n",
              "      <th>long</th>\n",
              "    </tr>\n",
              "  </thead>\n",
              "  <tbody>\n",
              "    <tr>\n",
              "      <th>0</th>\n",
              "      <td>1057</td>\n",
              "      <td>12</td>\n",
              "      <td>1289</td>\n",
              "      <td>77</td>\n",
              "      <td>38</td>\n",
              "      <td>2134</td>\n",
              "      <td>1</td>\n",
              "      <td>4</td>\n",
              "      <td>3</td>\n",
              "      <td>2909</td>\n",
              "      <td>0</td>\n",
              "      <td>2</td>\n",
              "      <td>7864</td>\n",
              "      <td>1</td>\n",
              "      <td>1</td>\n",
              "      <td>5</td>\n",
              "      <td>1</td>\n",
              "      <td>0</td>\n",
              "      <td>1577</td>\n",
              "      <td>306</td>\n",
              "    </tr>\n",
              "    <tr>\n",
              "      <th>1</th>\n",
              "      <td>1055</td>\n",
              "      <td>12</td>\n",
              "      <td>2126</td>\n",
              "      <td>80</td>\n",
              "      <td>13</td>\n",
              "      <td>3202</td>\n",
              "      <td>1</td>\n",
              "      <td>0</td>\n",
              "      <td>3</td>\n",
              "      <td>220</td>\n",
              "      <td>0</td>\n",
              "      <td>1</td>\n",
              "      <td>4550</td>\n",
              "      <td>1</td>\n",
              "      <td>0</td>\n",
              "      <td>0</td>\n",
              "      <td>11</td>\n",
              "      <td>0</td>\n",
              "      <td>1572</td>\n",
              "      <td>304</td>\n",
              "    </tr>\n",
              "    <tr>\n",
              "      <th>2</th>\n",
              "      <td>1051</td>\n",
              "      <td>12</td>\n",
              "      <td>2157</td>\n",
              "      <td>83</td>\n",
              "      <td>12</td>\n",
              "      <td>1789</td>\n",
              "      <td>0</td>\n",
              "      <td>0</td>\n",
              "      <td>1</td>\n",
              "      <td>3265</td>\n",
              "      <td>0</td>\n",
              "      <td>1</td>\n",
              "      <td>1333</td>\n",
              "      <td>1</td>\n",
              "      <td>0</td>\n",
              "      <td>9</td>\n",
              "      <td>11</td>\n",
              "      <td>0</td>\n",
              "      <td>1568</td>\n",
              "      <td>319</td>\n",
              "    </tr>\n",
              "    <tr>\n",
              "      <th>3</th>\n",
              "      <td>1049</td>\n",
              "      <td>12</td>\n",
              "      <td>1042</td>\n",
              "      <td>73</td>\n",
              "      <td>32</td>\n",
              "      <td>0</td>\n",
              "      <td>0</td>\n",
              "      <td>0</td>\n",
              "      <td>3</td>\n",
              "      <td>5941</td>\n",
              "      <td>0</td>\n",
              "      <td>1</td>\n",
              "      <td>612</td>\n",
              "      <td>1</td>\n",
              "      <td>0</td>\n",
              "      <td>9</td>\n",
              "      <td>10</td>\n",
              "      <td>0</td>\n",
              "      <td>1568</td>\n",
              "      <td>319</td>\n",
              "    </tr>\n",
              "    <tr>\n",
              "      <th>4</th>\n",
              "      <td>1048</td>\n",
              "      <td>12</td>\n",
              "      <td>1940</td>\n",
              "      <td>82</td>\n",
              "      <td>12</td>\n",
              "      <td>1766</td>\n",
              "      <td>0</td>\n",
              "      <td>0</td>\n",
              "      <td>1</td>\n",
              "      <td>4582</td>\n",
              "      <td>0</td>\n",
              "      <td>1</td>\n",
              "      <td>1300</td>\n",
              "      <td>1</td>\n",
              "      <td>0</td>\n",
              "      <td>9</td>\n",
              "      <td>11</td>\n",
              "      <td>0</td>\n",
              "      <td>1568</td>\n",
              "      <td>319</td>\n",
              "    </tr>\n",
              "    <tr>\n",
              "      <th>...</th>\n",
              "      <td>...</td>\n",
              "      <td>...</td>\n",
              "      <td>...</td>\n",
              "      <td>...</td>\n",
              "      <td>...</td>\n",
              "      <td>...</td>\n",
              "      <td>...</td>\n",
              "      <td>...</td>\n",
              "      <td>...</td>\n",
              "      <td>...</td>\n",
              "      <td>...</td>\n",
              "      <td>...</td>\n",
              "      <td>...</td>\n",
              "      <td>...</td>\n",
              "      <td>...</td>\n",
              "      <td>...</td>\n",
              "      <td>...</td>\n",
              "      <td>...</td>\n",
              "      <td>...</td>\n",
              "      <td>...</td>\n",
              "    </tr>\n",
              "    <tr>\n",
              "      <th>17403</th>\n",
              "      <td>15434</td>\n",
              "      <td>5</td>\n",
              "      <td>1637</td>\n",
              "      <td>82</td>\n",
              "      <td>35</td>\n",
              "      <td>3912</td>\n",
              "      <td>0</td>\n",
              "      <td>0</td>\n",
              "      <td>3</td>\n",
              "      <td>1138</td>\n",
              "      <td>0</td>\n",
              "      <td>2</td>\n",
              "      <td>6143</td>\n",
              "      <td>1</td>\n",
              "      <td>0</td>\n",
              "      <td>10</td>\n",
              "      <td>10</td>\n",
              "      <td>3</td>\n",
              "      <td>2046</td>\n",
              "      <td>203</td>\n",
              "    </tr>\n",
              "    <tr>\n",
              "      <th>17404</th>\n",
              "      <td>15433</td>\n",
              "      <td>5</td>\n",
              "      <td>2157</td>\n",
              "      <td>81</td>\n",
              "      <td>32</td>\n",
              "      <td>1334</td>\n",
              "      <td>0</td>\n",
              "      <td>0</td>\n",
              "      <td>1</td>\n",
              "      <td>1940</td>\n",
              "      <td>0</td>\n",
              "      <td>1</td>\n",
              "      <td>4235</td>\n",
              "      <td>1</td>\n",
              "      <td>0</td>\n",
              "      <td>11</td>\n",
              "      <td>6</td>\n",
              "      <td>3</td>\n",
              "      <td>2046</td>\n",
              "      <td>203</td>\n",
              "    </tr>\n",
              "    <tr>\n",
              "      <th>17405</th>\n",
              "      <td>15432</td>\n",
              "      <td>5</td>\n",
              "      <td>894</td>\n",
              "      <td>83</td>\n",
              "      <td>29</td>\n",
              "      <td>3160</td>\n",
              "      <td>0</td>\n",
              "      <td>4</td>\n",
              "      <td>3</td>\n",
              "      <td>1320</td>\n",
              "      <td>0</td>\n",
              "      <td>1</td>\n",
              "      <td>4622</td>\n",
              "      <td>2</td>\n",
              "      <td>0</td>\n",
              "      <td>10</td>\n",
              "      <td>0</td>\n",
              "      <td>3</td>\n",
              "      <td>2066</td>\n",
              "      <td>169</td>\n",
              "    </tr>\n",
              "    <tr>\n",
              "      <th>17406</th>\n",
              "      <td>15419</td>\n",
              "      <td>5</td>\n",
              "      <td>1081</td>\n",
              "      <td>82</td>\n",
              "      <td>37</td>\n",
              "      <td>1231</td>\n",
              "      <td>0</td>\n",
              "      <td>4</td>\n",
              "      <td>3</td>\n",
              "      <td>1167</td>\n",
              "      <td>0</td>\n",
              "      <td>1</td>\n",
              "      <td>3984</td>\n",
              "      <td>2</td>\n",
              "      <td>0</td>\n",
              "      <td>10</td>\n",
              "      <td>0</td>\n",
              "      <td>3</td>\n",
              "      <td>2066</td>\n",
              "      <td>169</td>\n",
              "    </tr>\n",
              "    <tr>\n",
              "      <th>17407</th>\n",
              "      <td>15389</td>\n",
              "      <td>5</td>\n",
              "      <td>1973</td>\n",
              "      <td>84</td>\n",
              "      <td>37</td>\n",
              "      <td>362</td>\n",
              "      <td>0</td>\n",
              "      <td>0</td>\n",
              "      <td>3</td>\n",
              "      <td>747</td>\n",
              "      <td>0</td>\n",
              "      <td>1</td>\n",
              "      <td>6675</td>\n",
              "      <td>1</td>\n",
              "      <td>0</td>\n",
              "      <td>1</td>\n",
              "      <td>1</td>\n",
              "      <td>3</td>\n",
              "      <td>2046</td>\n",
              "      <td>203</td>\n",
              "    </tr>\n",
              "  </tbody>\n",
              "</table>\n",
              "<p>17408 rows × 20 columns</p>\n",
              "</div>"
            ],
            "text/plain": [
              "          id  region  price  year  ...  paint_color  state   lat  long\n",
              "0       1057      12   1289    77  ...            1      0  1577   306\n",
              "1       1055      12   2126    80  ...           11      0  1572   304\n",
              "2       1051      12   2157    83  ...           11      0  1568   319\n",
              "3       1049      12   1042    73  ...           10      0  1568   319\n",
              "4       1048      12   1940    82  ...           11      0  1568   319\n",
              "...      ...     ...    ...   ...  ...          ...    ...   ...   ...\n",
              "17403  15434       5   1637    82  ...           10      3  2046   203\n",
              "17404  15433       5   2157    81  ...            6      3  2046   203\n",
              "17405  15432       5    894    83  ...            0      3  2066   169\n",
              "17406  15419       5   1081    82  ...            0      3  2066   169\n",
              "17407  15389       5   1973    84  ...            1      3  2046   203\n",
              "\n",
              "[17408 rows x 20 columns]"
            ]
          },
          "metadata": {
            "tags": []
          },
          "execution_count": 35
        }
      ]
    },
    {
      "cell_type": "code",
      "metadata": {
        "id": "WRvkrFFR7oaS",
        "colab_type": "code",
        "outputId": "a04428b4-7079-4631-fa0b-554f17de3083",
        "colab": {
          "base_uri": "https://localhost:8080/",
          "height": 34
        }
      },
      "source": [
        "X1 = df_num.loc[:, df_num.columns != 'title_status'].values\n",
        "Y1 = df_num.iloc[:,-10].values\n",
        "Y1"
      ],
      "execution_count": 36,
      "outputs": [
        {
          "output_type": "execute_result",
          "data": {
            "text/plain": [
              "array([0, 0, 0, ..., 0, 0, 0])"
            ]
          },
          "metadata": {
            "tags": []
          },
          "execution_count": 36
        }
      ]
    },
    {
      "cell_type": "code",
      "metadata": {
        "id": "LmBUQMI67RgB",
        "colab_type": "code",
        "colab": {}
      },
      "source": [
        "train_pct_index = int(0.8 * len(X1))\n",
        "X1_train, X1_test = X1[:train_pct_index], X1[train_pct_index:]\n",
        "Y1_train, Y1_test = Y1[:train_pct_index], Y1[train_pct_index:]"
      ],
      "execution_count": 0,
      "outputs": []
    },
    {
      "cell_type": "code",
      "metadata": {
        "id": "FomePBzs8Noa",
        "colab_type": "code",
        "colab": {}
      },
      "source": [
        "from sklearn.preprocessing import StandardScaler\n",
        "scaler = StandardScaler()\n",
        "scaler.fit(X1_train)\n",
        "\n",
        "X1_train = scaler.transform(X1_train)\n",
        "X1_test = scaler.transform(X1_test)"
      ],
      "execution_count": 0,
      "outputs": []
    },
    {
      "cell_type": "code",
      "metadata": {
        "id": "CRHme7h78Sdm",
        "colab_type": "code",
        "outputId": "6a51a2f2-4fc4-46ed-ead7-676c7c73ebea",
        "colab": {
          "base_uri": "https://localhost:8080/",
          "height": 69
        }
      },
      "source": [
        "from sklearn.neighbors import KNeighborsClassifier\n",
        "classifier = KNeighborsClassifier(n_neighbors=7)\n",
        "classifier.fit(X1_train, Y1_train)\n"
      ],
      "execution_count": 39,
      "outputs": [
        {
          "output_type": "execute_result",
          "data": {
            "text/plain": [
              "KNeighborsClassifier(algorithm='auto', leaf_size=30, metric='minkowski',\n",
              "                     metric_params=None, n_jobs=None, n_neighbors=7, p=2,\n",
              "                     weights='uniform')"
            ]
          },
          "metadata": {
            "tags": []
          },
          "execution_count": 39
        }
      ]
    },
    {
      "cell_type": "code",
      "metadata": {
        "id": "sY7jiOIL8aP3",
        "colab_type": "code",
        "colab": {}
      },
      "source": [
        "Y1_pred = classifier.predict(X1_test)"
      ],
      "execution_count": 0,
      "outputs": []
    },
    {
      "cell_type": "markdown",
      "metadata": {
        "id": "rcN6qYDpcdEV",
        "colab_type": "text"
      },
      "source": [
        "## **Evaluasi**"
      ]
    },
    {
      "cell_type": "code",
      "metadata": {
        "id": "mphNCuPrcfLF",
        "colab_type": "code",
        "outputId": "2ae95efd-a6b2-4404-cb7d-66a5677ce014",
        "colab": {
          "base_uri": "https://localhost:8080/",
          "height": 233
        }
      },
      "source": [
        "Y1_test = pd.Series(Y1_test, name='Actual')\n",
        "Y1_pred = pd.Series(Y1_pred, name='Predicted')\n",
        "fitur_confusion = pd.crosstab(Y1_test, Y1_pred)\n",
        "\n",
        "fitur_confusion\n"
      ],
      "execution_count": 41,
      "outputs": [
        {
          "output_type": "execute_result",
          "data": {
            "text/html": [
              "<div>\n",
              "<style scoped>\n",
              "    .dataframe tbody tr th:only-of-type {\n",
              "        vertical-align: middle;\n",
              "    }\n",
              "\n",
              "    .dataframe tbody tr th {\n",
              "        vertical-align: top;\n",
              "    }\n",
              "\n",
              "    .dataframe thead th {\n",
              "        text-align: right;\n",
              "    }\n",
              "</style>\n",
              "<table border=\"1\" class=\"dataframe\">\n",
              "  <thead>\n",
              "    <tr style=\"text-align: right;\">\n",
              "      <th>Predicted</th>\n",
              "      <th>0</th>\n",
              "    </tr>\n",
              "    <tr>\n",
              "      <th>Actual</th>\n",
              "      <th></th>\n",
              "    </tr>\n",
              "  </thead>\n",
              "  <tbody>\n",
              "    <tr>\n",
              "      <th>0</th>\n",
              "      <td>3367</td>\n",
              "    </tr>\n",
              "    <tr>\n",
              "      <th>1</th>\n",
              "      <td>12</td>\n",
              "    </tr>\n",
              "    <tr>\n",
              "      <th>2</th>\n",
              "      <td>2</td>\n",
              "    </tr>\n",
              "    <tr>\n",
              "      <th>4</th>\n",
              "      <td>93</td>\n",
              "    </tr>\n",
              "    <tr>\n",
              "      <th>5</th>\n",
              "      <td>8</td>\n",
              "    </tr>\n",
              "  </tbody>\n",
              "</table>\n",
              "</div>"
            ],
            "text/plain": [
              "Predicted     0\n",
              "Actual         \n",
              "0          3367\n",
              "1            12\n",
              "2             2\n",
              "4            93\n",
              "5             8"
            ]
          },
          "metadata": {
            "tags": []
          },
          "execution_count": 41
        }
      ]
    },
    {
      "cell_type": "code",
      "metadata": {
        "id": "iutnl1Bp8eW9",
        "colab_type": "code",
        "outputId": "2888b034-b1a9-4928-e2c9-2a510ba9ca92",
        "colab": {
          "base_uri": "https://localhost:8080/",
          "height": 346
        }
      },
      "source": [
        "from sklearn.metrics import classification_report, confusion_matrix\n",
        "print(confusion_matrix(Y1_test, Y1_pred))\n",
        "print(classification_report(Y1_test, Y1_pred))"
      ],
      "execution_count": 42,
      "outputs": [
        {
          "output_type": "stream",
          "text": [
            "[[3367    0    0    0    0]\n",
            " [  12    0    0    0    0]\n",
            " [   2    0    0    0    0]\n",
            " [  93    0    0    0    0]\n",
            " [   8    0    0    0    0]]\n",
            "              precision    recall  f1-score   support\n",
            "\n",
            "           0       0.97      1.00      0.98      3367\n",
            "           1       0.00      0.00      0.00        12\n",
            "           2       0.00      0.00      0.00         2\n",
            "           4       0.00      0.00      0.00        93\n",
            "           5       0.00      0.00      0.00         8\n",
            "\n",
            "    accuracy                           0.97      3482\n",
            "   macro avg       0.19      0.20      0.20      3482\n",
            "weighted avg       0.94      0.97      0.95      3482\n",
            "\n"
          ],
          "name": "stdout"
        },
        {
          "output_type": "stream",
          "text": [
            "/usr/local/lib/python3.6/dist-packages/sklearn/metrics/_classification.py:1272: UndefinedMetricWarning: Precision and F-score are ill-defined and being set to 0.0 in labels with no predicted samples. Use `zero_division` parameter to control this behavior.\n",
            "  _warn_prf(average, modifier, msg_start, len(result))\n"
          ],
          "name": "stderr"
        }
      ]
    }
  ]
}