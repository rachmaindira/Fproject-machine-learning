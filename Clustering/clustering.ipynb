{
  "nbformat": 4,
  "nbformat_minor": 0,
  "metadata": {
    "kernelspec": {
      "display_name": "Python 3",
      "language": "python",
      "name": "python3"
    },
    "language_info": {
      "codemirror_mode": {
        "name": "ipython",
        "version": 3
      },
      "file_extension": ".py",
      "mimetype": "text/x-python",
      "name": "python",
      "nbconvert_exporter": "python",
      "pygments_lexer": "ipython3",
      "version": "3.6.9"
    },
    "colab": {
      "name": "clustering.ipynb",
      "provenance": [],
      "toc_visible": true
    }
  },
  "cells": [
    {
      "cell_type": "markdown",
      "metadata": {
        "id": "FizVxbCCWGEQ",
        "colab_type": "text"
      },
      "source": [
        "# **Import Library**"
      ]
    },
    {
      "cell_type": "code",
      "metadata": {
        "id": "ow0fD6B9WGEQ",
        "colab_type": "code",
        "colab": {}
      },
      "source": [
        "import pandas as pd\n",
        "import numpy as np\n",
        "from random import sample\n",
        "\n",
        "import matplotlib.pyplot as plt\n",
        "from matplotlib import style"
      ],
      "execution_count": 0,
      "outputs": []
    },
    {
      "cell_type": "markdown",
      "metadata": {
        "id": "SmwmMXxHzXiI",
        "colab_type": "text"
      },
      "source": [
        "# **Import Dataset**"
      ]
    },
    {
      "cell_type": "code",
      "metadata": {
        "id": "yDcdV-6Iyxbk",
        "colab_type": "code",
        "outputId": "f01df79c-867d-4cd7-b3d8-3541c137ecd1",
        "colab": {
          "base_uri": "https://localhost:8080/",
          "height": 126
        }
      },
      "source": [
        "from google.colab import drive\n",
        "drive.mount('/content/drive/')"
      ],
      "execution_count": 2,
      "outputs": [
        {
          "output_type": "stream",
          "text": [
            "Go to this URL in a browser: https://accounts.google.com/o/oauth2/auth?client_id=947318989803-6bn6qk8qdgf4n4g3pfee6491hc0brc4i.apps.googleusercontent.com&redirect_uri=urn%3aietf%3awg%3aoauth%3a2.0%3aoob&response_type=code&scope=email%20https%3a%2f%2fwww.googleapis.com%2fauth%2fdocs.test%20https%3a%2f%2fwww.googleapis.com%2fauth%2fdrive%20https%3a%2f%2fwww.googleapis.com%2fauth%2fdrive.photos.readonly%20https%3a%2f%2fwww.googleapis.com%2fauth%2fpeopleapi.readonly\n",
            "\n",
            "Enter your authorization code:\n",
            "··········\n",
            "Mounted at /content/drive/\n"
          ],
          "name": "stdout"
        }
      ]
    },
    {
      "cell_type": "code",
      "metadata": {
        "id": "wgz5eFUFy2Uq",
        "colab_type": "code",
        "outputId": "d96013d2-5a74-48a6-8fe2-5207676ba54b",
        "colab": {
          "base_uri": "https://localhost:8080/",
          "height": 279
        }
      },
      "source": [
        "!ls \"drive/My Drive/malin\"\n",
        "data = pd.read_csv('/content/drive/My Drive/malin/used_cars.csv')\n",
        "data.head(2)"
      ],
      "execution_count": 3,
      "outputs": [
        {
          "output_type": "stream",
          "text": [
            "used_cars.csv\n"
          ],
          "name": "stdout"
        },
        {
          "output_type": "execute_result",
          "data": {
            "text/html": [
              "<div>\n",
              "<style scoped>\n",
              "    .dataframe tbody tr th:only-of-type {\n",
              "        vertical-align: middle;\n",
              "    }\n",
              "\n",
              "    .dataframe tbody tr th {\n",
              "        vertical-align: top;\n",
              "    }\n",
              "\n",
              "    .dataframe thead th {\n",
              "        text-align: right;\n",
              "    }\n",
              "</style>\n",
              "<table border=\"1\" class=\"dataframe\">\n",
              "  <thead>\n",
              "    <tr style=\"text-align: right;\">\n",
              "      <th></th>\n",
              "      <th>Unnamed: 0</th>\n",
              "      <th>id</th>\n",
              "      <th>url</th>\n",
              "      <th>region</th>\n",
              "      <th>region_url</th>\n",
              "      <th>price</th>\n",
              "      <th>year</th>\n",
              "      <th>manufacturer</th>\n",
              "      <th>model</th>\n",
              "      <th>condition</th>\n",
              "      <th>cylinders</th>\n",
              "      <th>fuel</th>\n",
              "      <th>odometer</th>\n",
              "      <th>title_status</th>\n",
              "      <th>transmission</th>\n",
              "      <th>vin</th>\n",
              "      <th>drive</th>\n",
              "      <th>size</th>\n",
              "      <th>type</th>\n",
              "      <th>paint_color</th>\n",
              "      <th>image_url</th>\n",
              "      <th>description</th>\n",
              "      <th>county</th>\n",
              "      <th>state</th>\n",
              "      <th>lat</th>\n",
              "      <th>long</th>\n",
              "    </tr>\n",
              "  </thead>\n",
              "  <tbody>\n",
              "    <tr>\n",
              "      <th>0</th>\n",
              "      <td>0</td>\n",
              "      <td>7034441763</td>\n",
              "      <td>https://saltlakecity.craigslist.org/cto/d/salt...</td>\n",
              "      <td>salt lake city</td>\n",
              "      <td>https://saltlakecity.craigslist.org</td>\n",
              "      <td>17899</td>\n",
              "      <td>2012.0</td>\n",
              "      <td>volkswagen</td>\n",
              "      <td>golf r</td>\n",
              "      <td>excellent</td>\n",
              "      <td>4 cylinders</td>\n",
              "      <td>gas</td>\n",
              "      <td>63500.0</td>\n",
              "      <td>clean</td>\n",
              "      <td>manual</td>\n",
              "      <td>WVWPF7AJ6CW316713</td>\n",
              "      <td>4wd</td>\n",
              "      <td>compact</td>\n",
              "      <td>hatchback</td>\n",
              "      <td>black</td>\n",
              "      <td>https://images.craigslist.org/00G0G_fTLDWM5Xyv...</td>\n",
              "      <td>PRICE REDUCED!   -Garage kept -Low Miles (63K)...</td>\n",
              "      <td>NaN</td>\n",
              "      <td>ut</td>\n",
              "      <td>40.7372</td>\n",
              "      <td>-111.858</td>\n",
              "    </tr>\n",
              "    <tr>\n",
              "      <th>1</th>\n",
              "      <td>1</td>\n",
              "      <td>7034440610</td>\n",
              "      <td>https://saltlakecity.craigslist.org/ctd/d/sand...</td>\n",
              "      <td>salt lake city</td>\n",
              "      <td>https://saltlakecity.craigslist.org</td>\n",
              "      <td>0</td>\n",
              "      <td>2016.0</td>\n",
              "      <td>ford</td>\n",
              "      <td>f-150</td>\n",
              "      <td>excellent</td>\n",
              "      <td>NaN</td>\n",
              "      <td>gas</td>\n",
              "      <td>10.0</td>\n",
              "      <td>clean</td>\n",
              "      <td>automatic</td>\n",
              "      <td>1FTMF1EP3GKF13544</td>\n",
              "      <td>4wd</td>\n",
              "      <td>NaN</td>\n",
              "      <td>NaN</td>\n",
              "      <td>NaN</td>\n",
              "      <td>https://images.craigslist.org/00v0v_7Cu0buIofU...</td>\n",
              "      <td>Drive it home today. Call (Or Text) us now !!C...</td>\n",
              "      <td>NaN</td>\n",
              "      <td>ut</td>\n",
              "      <td>40.5881</td>\n",
              "      <td>-111.884</td>\n",
              "    </tr>\n",
              "  </tbody>\n",
              "</table>\n",
              "</div>"
            ],
            "text/plain": [
              "   Unnamed: 0          id  ...      lat     long\n",
              "0           0  7034441763  ...  40.7372 -111.858\n",
              "1           1  7034440610  ...  40.5881 -111.884\n",
              "\n",
              "[2 rows x 26 columns]"
            ]
          },
          "metadata": {
            "tags": []
          },
          "execution_count": 3
        }
      ]
    },
    {
      "cell_type": "markdown",
      "metadata": {
        "id": "d40rjIdmzaaT",
        "colab_type": "text"
      },
      "source": [
        "# **Eksplorasi dan Persiapan data**\n",
        "\n",
        "Feature yg dipakai = lat and long"
      ]
    },
    {
      "cell_type": "code",
      "metadata": {
        "id": "LKyAhvg0WGEX",
        "colab_type": "code",
        "colab": {}
      },
      "source": [
        "data ['lat'] = data['lat'].replace(np.NaN , data['lat'].mean())\n",
        "data ['long'] = data['long'].replace(np.NaN , data['long'].mean())\n",
        "data ['year'] = data['year'].replace(np.NaN , data['year'].mean())\n",
        "data ['odometer'] = data['odometer'].replace(np.NaN , data['odometer'].mean())\n",
        "\n",
        "data.drop(data.columns[data.columns.str.contains('unnamed',case = False)],axis = 1, inplace = True)\n",
        "#print(data)\n",
        "data=data.drop('county',axis=1)\n",
        "data=data.drop('size',axis=1)\n",
        "data=data.drop('condition',axis=1)\n",
        "data=data.drop('cylinders',axis=1)\n",
        "\n",
        "\n",
        "## MISSING VALUE\n",
        "\n",
        "data =data.dropna(how='all', subset=['title_status'])\n",
        "data = data.fillna('-')\n",
        "data=data.dropna()\n",
        "\n",
        "\n"
      ],
      "execution_count": 0,
      "outputs": []
    },
    {
      "cell_type": "markdown",
      "metadata": {
        "id": "QBUfStVszlFq",
        "colab_type": "text"
      },
      "source": [
        "## **Taking care Outlier**\n",
        "Melihat outlier pada feature year dan odometer"
      ]
    },
    {
      "cell_type": "code",
      "metadata": {
        "id": "-DH5c7cDznYT",
        "colab_type": "code",
        "outputId": "bc68bef7-42ab-4fec-c44d-e2b8c96963f7",
        "colab": {
          "base_uri": "https://localhost:8080/",
          "height": 1000
        }
      },
      "source": [
        "plt.figure()\n",
        "data.boxplot(['price'])\n",
        "\n",
        "plt.figure()\n",
        "data.boxplot(['odometer'])\n",
        "\n",
        "plt.figure()\n",
        "data.boxplot(['lat'])\n",
        "\n",
        "plt.figure()\n",
        "data.boxplot(['long'])\n"
      ],
      "execution_count": 5,
      "outputs": [
        {
          "output_type": "execute_result",
          "data": {
            "text/plain": [
              "<matplotlib.axes._subplots.AxesSubplot at 0x7f88c940d4a8>"
            ]
          },
          "metadata": {
            "tags": []
          },
          "execution_count": 5
        },
        {
          "output_type": "display_data",
          "data": {
            "image/png": "[encoded data removed]",
            "text/plain": [
              "<Figure size 432x288 with 1 Axes>"
            ]
          },
          "metadata": {
            "tags": [],
            "needs_background": "light"
          }
        },
        {
          "output_type": "display_data",
          "data": {
            "image/png": "[encoded data removed]",
            "text/plain": [
              "<Figure size 432x288 with 1 Axes>"
            ]
          },
          "metadata": {
            "tags": [],
            "needs_background": "light"
          }
        },
        {
          "output_type": "display_data",
          "data": {
            "image/png": "[encoded data removed]",
            "text/plain": [
              "<Figure size 432x288 with 1 Axes>"
            ]
          },
          "metadata": {
            "tags": [],
            "needs_background": "light"
          }
        },
        {
          "output_type": "display_data",
          "data": {
            "image/png": "[encoded data removed]",
            "text/plain": [
              "<Figure size 432x288 with 1 Axes>"
            ]
          },
          "metadata": {
            "tags": [],
            "needs_background": "light"
          }
        }
      ]
    },
    {
      "cell_type": "code",
      "metadata": {
        "id": "KKIC0duEzpVf",
        "colab_type": "code",
        "colab": {}
      },
      "source": [
        "#Taking care missing value, hanya di atribut price. karena atribut price tidak mungkin <= 0. sehingga data price yang <= 0 akan dihapus\n",
        "\n",
        "data = data[data.price > 0]"
      ],
      "execution_count": 0,
      "outputs": []
    },
    {
      "cell_type": "code",
      "metadata": {
        "id": "oG54Ul22JEYl",
        "colab_type": "code",
        "outputId": "aed978a4-4d41-4726-f047-37978453e793",
        "colab": {
          "base_uri": "https://localhost:8080/",
          "height": 408
        }
      },
      "source": [
        "print(data.isnull().sum()) "
      ],
      "execution_count": 7,
      "outputs": [
        {
          "output_type": "stream",
          "text": [
            "id              0\n",
            "url             0\n",
            "region          0\n",
            "region_url      0\n",
            "price           0\n",
            "year            0\n",
            "manufacturer    0\n",
            "model           0\n",
            "fuel            0\n",
            "odometer        0\n",
            "title_status    0\n",
            "transmission    0\n",
            "vin             0\n",
            "drive           0\n",
            "type            0\n",
            "paint_color     0\n",
            "image_url       0\n",
            "description     0\n",
            "state           0\n",
            "lat             0\n",
            "long            0\n",
            "dtype: int64\n"
          ],
          "name": "stdout"
        }
      ]
    },
    {
      "cell_type": "code",
      "metadata": {
        "id": "xSleAlfUWGEZ",
        "colab_type": "code",
        "outputId": "a7dcaa56-5b94-44e9-cfe3-52d63f3696ab",
        "colab": {
          "base_uri": "https://localhost:8080/",
          "height": 659
        }
      },
      "source": [
        "kolom=data.columns.values.tolist()\n",
        "print(kolom)\n",
        "for x in kolom[0:-2]:\n",
        "    if data[x].dtype=='object':\n",
        "        #print(\"nice\")\n",
        "        data[x]=data[x].astype(str)\n",
        "print(data['odometer'])\n",
        "data.dtypes"
      ],
      "execution_count": 8,
      "outputs": [
        {
          "output_type": "stream",
          "text": [
            "['id', 'url', 'region', 'region_url', 'price', 'year', 'manufacturer', 'model', 'fuel', 'odometer', 'title_status', 'transmission', 'vin', 'drive', 'type', 'paint_color', 'image_url', 'description', 'state', 'lat', 'long']\n",
            "0         63500.0\n",
            "2          7554.0\n",
            "4         70150.0\n",
            "5        120057.0\n",
            "6         95484.0\n",
            "           ...   \n",
            "19995     29894.0\n",
            "19996     43406.0\n",
            "19997     32867.0\n",
            "19999     30486.0\n",
            "20000     22078.0\n",
            "Name: odometer, Length: 17408, dtype: float64\n"
          ],
          "name": "stdout"
        },
        {
          "output_type": "execute_result",
          "data": {
            "text/plain": [
              "id                int64\n",
              "url              object\n",
              "region           object\n",
              "region_url       object\n",
              "price             int64\n",
              "year            float64\n",
              "manufacturer     object\n",
              "model            object\n",
              "fuel             object\n",
              "odometer        float64\n",
              "title_status     object\n",
              "transmission     object\n",
              "vin              object\n",
              "drive            object\n",
              "type             object\n",
              "paint_color      object\n",
              "image_url        object\n",
              "description      object\n",
              "state            object\n",
              "lat             float64\n",
              "long            float64\n",
              "dtype: object"
            ]
          },
          "metadata": {
            "tags": []
          },
          "execution_count": 8
        }
      ]
    },
    {
      "cell_type": "markdown",
      "metadata": {
        "id": "WpT88_5Gzsdf",
        "colab_type": "text"
      },
      "source": [
        "# **Exploration Data**"
      ]
    },
    {
      "cell_type": "code",
      "metadata": {
        "id": "BlCTc3qpzr5-",
        "colab_type": "code",
        "outputId": "519c0d97-a8c2-48ca-b979-8d3227db4663",
        "colab": {
          "base_uri": "https://localhost:8080/",
          "height": 35
        }
      },
      "source": [
        "data.shape"
      ],
      "execution_count": 9,
      "outputs": [
        {
          "output_type": "execute_result",
          "data": {
            "text/plain": [
              "(17408, 21)"
            ]
          },
          "metadata": {
            "tags": []
          },
          "execution_count": 9
        }
      ]
    },
    {
      "cell_type": "code",
      "metadata": {
        "id": "_ueXIWAnzwDi",
        "colab_type": "code",
        "outputId": "50b52736-f961-4e92-a832-9ec921c781c8",
        "colab": {
          "base_uri": "https://localhost:8080/",
          "height": 408
        }
      },
      "source": [
        "data.dtypes"
      ],
      "execution_count": 10,
      "outputs": [
        {
          "output_type": "execute_result",
          "data": {
            "text/plain": [
              "id                int64\n",
              "url              object\n",
              "region           object\n",
              "region_url       object\n",
              "price             int64\n",
              "year            float64\n",
              "manufacturer     object\n",
              "model            object\n",
              "fuel             object\n",
              "odometer        float64\n",
              "title_status     object\n",
              "transmission     object\n",
              "vin              object\n",
              "drive            object\n",
              "type             object\n",
              "paint_color      object\n",
              "image_url        object\n",
              "description      object\n",
              "state            object\n",
              "lat             float64\n",
              "long            float64\n",
              "dtype: object"
            ]
          },
          "metadata": {
            "tags": []
          },
          "execution_count": 10
        }
      ]
    },
    {
      "cell_type": "code",
      "metadata": {
        "id": "eJH_tKr6zxSL",
        "colab_type": "code",
        "outputId": "4e2f4932-fb9e-4e5c-84fb-92a827331dc1",
        "colab": {
          "base_uri": "https://localhost:8080/",
          "height": 282
        }
      },
      "source": [
        "data.describe()"
      ],
      "execution_count": 11,
      "outputs": [
        {
          "output_type": "execute_result",
          "data": {
            "text/html": [
              "<div>\n",
              "<style scoped>\n",
              "    .dataframe tbody tr th:only-of-type {\n",
              "        vertical-align: middle;\n",
              "    }\n",
              "\n",
              "    .dataframe tbody tr th {\n",
              "        vertical-align: top;\n",
              "    }\n",
              "\n",
              "    .dataframe thead th {\n",
              "        text-align: right;\n",
              "    }\n",
              "</style>\n",
              "<table border=\"1\" class=\"dataframe\">\n",
              "  <thead>\n",
              "    <tr style=\"text-align: right;\">\n",
              "      <th></th>\n",
              "      <th>id</th>\n",
              "      <th>price</th>\n",
              "      <th>year</th>\n",
              "      <th>odometer</th>\n",
              "      <th>lat</th>\n",
              "      <th>long</th>\n",
              "    </tr>\n",
              "  </thead>\n",
              "  <tbody>\n",
              "    <tr>\n",
              "      <th>count</th>\n",
              "      <td>1.740800e+04</td>\n",
              "      <td>1.740800e+04</td>\n",
              "      <td>17408.000000</td>\n",
              "      <td>1.740800e+04</td>\n",
              "      <td>17408.000000</td>\n",
              "      <td>17408.000000</td>\n",
              "    </tr>\n",
              "    <tr>\n",
              "      <th>mean</th>\n",
              "      <td>7.043212e+09</td>\n",
              "      <td>8.798878e+04</td>\n",
              "      <td>2009.345242</td>\n",
              "      <td>1.024656e+05</td>\n",
              "      <td>40.572577</td>\n",
              "      <td>-86.904214</td>\n",
              "    </tr>\n",
              "    <tr>\n",
              "      <th>std</th>\n",
              "      <td>4.704549e+06</td>\n",
              "      <td>8.935022e+06</td>\n",
              "      <td>8.133930</td>\n",
              "      <td>7.763948e+04</td>\n",
              "      <td>4.509480</td>\n",
              "      <td>18.567203</td>\n",
              "    </tr>\n",
              "    <tr>\n",
              "      <th>min</th>\n",
              "      <td>7.032597e+09</td>\n",
              "      <td>1.000000e+00</td>\n",
              "      <td>1917.000000</td>\n",
              "      <td>0.000000e+00</td>\n",
              "      <td>-51.812200</td>\n",
              "      <td>-155.901000</td>\n",
              "    </tr>\n",
              "    <tr>\n",
              "      <th>25%</th>\n",
              "      <td>7.040080e+09</td>\n",
              "      <td>5.695000e+03</td>\n",
              "      <td>2006.000000</td>\n",
              "      <td>6.045600e+04</td>\n",
              "      <td>37.289500</td>\n",
              "      <td>-84.411800</td>\n",
              "    </tr>\n",
              "    <tr>\n",
              "      <th>50%</th>\n",
              "      <td>7.043899e+09</td>\n",
              "      <td>1.049500e+04</td>\n",
              "      <td>2011.000000</td>\n",
              "      <td>9.916435e+04</td>\n",
              "      <td>38.273500</td>\n",
              "      <td>-77.609400</td>\n",
              "    </tr>\n",
              "    <tr>\n",
              "      <th>75%</th>\n",
              "      <td>7.047130e+09</td>\n",
              "      <td>1.899000e+04</td>\n",
              "      <td>2015.000000</td>\n",
              "      <td>1.315405e+05</td>\n",
              "      <td>44.457800</td>\n",
              "      <td>-76.243700</td>\n",
              "    </tr>\n",
              "    <tr>\n",
              "      <th>max</th>\n",
              "      <td>7.050101e+09</td>\n",
              "      <td>1.172420e+09</td>\n",
              "      <td>2020.000000</td>\n",
              "      <td>2.500005e+06</td>\n",
              "      <td>59.746600</td>\n",
              "      <td>9.095700</td>\n",
              "    </tr>\n",
              "  </tbody>\n",
              "</table>\n",
              "</div>"
            ],
            "text/plain": [
              "                 id         price  ...           lat          long\n",
              "count  1.740800e+04  1.740800e+04  ...  17408.000000  17408.000000\n",
              "mean   7.043212e+09  8.798878e+04  ...     40.572577    -86.904214\n",
              "std    4.704549e+06  8.935022e+06  ...      4.509480     18.567203\n",
              "min    7.032597e+09  1.000000e+00  ...    -51.812200   -155.901000\n",
              "25%    7.040080e+09  5.695000e+03  ...     37.289500    -84.411800\n",
              "50%    7.043899e+09  1.049500e+04  ...     38.273500    -77.609400\n",
              "75%    7.047130e+09  1.899000e+04  ...     44.457800    -76.243700\n",
              "max    7.050101e+09  1.172420e+09  ...     59.746600      9.095700\n",
              "\n",
              "[8 rows x 6 columns]"
            ]
          },
          "metadata": {
            "tags": []
          },
          "execution_count": 11
        }
      ]
    },
    {
      "cell_type": "code",
      "metadata": {
        "id": "SGg2njQLz1FJ",
        "colab_type": "code",
        "outputId": "3d300cb2-f5db-444c-e391-c38f60d7563e",
        "colab": {
          "base_uri": "https://localhost:8080/",
          "height": 535
        }
      },
      "source": [
        "data.head()"
      ],
      "execution_count": 12,
      "outputs": [
        {
          "output_type": "execute_result",
          "data": {
            "text/html": [
              "<div>\n",
              "<style scoped>\n",
              "    .dataframe tbody tr th:only-of-type {\n",
              "        vertical-align: middle;\n",
              "    }\n",
              "\n",
              "    .dataframe tbody tr th {\n",
              "        vertical-align: top;\n",
              "    }\n",
              "\n",
              "    .dataframe thead th {\n",
              "        text-align: right;\n",
              "    }\n",
              "</style>\n",
              "<table border=\"1\" class=\"dataframe\">\n",
              "  <thead>\n",
              "    <tr style=\"text-align: right;\">\n",
              "      <th></th>\n",
              "      <th>id</th>\n",
              "      <th>url</th>\n",
              "      <th>region</th>\n",
              "      <th>region_url</th>\n",
              "      <th>price</th>\n",
              "      <th>year</th>\n",
              "      <th>manufacturer</th>\n",
              "      <th>model</th>\n",
              "      <th>fuel</th>\n",
              "      <th>odometer</th>\n",
              "      <th>title_status</th>\n",
              "      <th>transmission</th>\n",
              "      <th>vin</th>\n",
              "      <th>drive</th>\n",
              "      <th>type</th>\n",
              "      <th>paint_color</th>\n",
              "      <th>image_url</th>\n",
              "      <th>description</th>\n",
              "      <th>state</th>\n",
              "      <th>lat</th>\n",
              "      <th>long</th>\n",
              "    </tr>\n",
              "  </thead>\n",
              "  <tbody>\n",
              "    <tr>\n",
              "      <th>0</th>\n",
              "      <td>7034441763</td>\n",
              "      <td>https://saltlakecity.craigslist.org/cto/d/salt...</td>\n",
              "      <td>salt lake city</td>\n",
              "      <td>https://saltlakecity.craigslist.org</td>\n",
              "      <td>17899</td>\n",
              "      <td>2012.0</td>\n",
              "      <td>volkswagen</td>\n",
              "      <td>golf r</td>\n",
              "      <td>gas</td>\n",
              "      <td>63500.0</td>\n",
              "      <td>clean</td>\n",
              "      <td>manual</td>\n",
              "      <td>WVWPF7AJ6CW316713</td>\n",
              "      <td>4wd</td>\n",
              "      <td>hatchback</td>\n",
              "      <td>black</td>\n",
              "      <td>https://images.craigslist.org/00G0G_fTLDWM5Xyv...</td>\n",
              "      <td>PRICE REDUCED!   -Garage kept -Low Miles (63K)...</td>\n",
              "      <td>ut</td>\n",
              "      <td>40.7372</td>\n",
              "      <td>-111.858</td>\n",
              "    </tr>\n",
              "    <tr>\n",
              "      <th>2</th>\n",
              "      <td>7034440588</td>\n",
              "      <td>https://saltlakecity.craigslist.org/ctd/d/sand...</td>\n",
              "      <td>salt lake city</td>\n",
              "      <td>https://saltlakecity.craigslist.org</td>\n",
              "      <td>46463</td>\n",
              "      <td>2015.0</td>\n",
              "      <td>gmc</td>\n",
              "      <td>sierra 1500</td>\n",
              "      <td>gas</td>\n",
              "      <td>7554.0</td>\n",
              "      <td>clean</td>\n",
              "      <td>automatic</td>\n",
              "      <td>3GTU2WEC6FG228025</td>\n",
              "      <td>4wd</td>\n",
              "      <td>-</td>\n",
              "      <td>white</td>\n",
              "      <td>https://images.craigslist.org/01515_lPvJ9bfbdY...</td>\n",
              "      <td>Drive it home today. Call (Or Text) us now !!C...</td>\n",
              "      <td>ut</td>\n",
              "      <td>40.5881</td>\n",
              "      <td>-111.884</td>\n",
              "    </tr>\n",
              "    <tr>\n",
              "      <th>4</th>\n",
              "      <td>7034406932</td>\n",
              "      <td>https://saltlakecity.craigslist.org/ctd/d/evan...</td>\n",
              "      <td>salt lake city</td>\n",
              "      <td>https://saltlakecity.craigslist.org</td>\n",
              "      <td>49999</td>\n",
              "      <td>2018.0</td>\n",
              "      <td>ford</td>\n",
              "      <td>f-450</td>\n",
              "      <td>diesel</td>\n",
              "      <td>70150.0</td>\n",
              "      <td>clean</td>\n",
              "      <td>automatic</td>\n",
              "      <td>1FT8W4DT8GEA90427</td>\n",
              "      <td>4wd</td>\n",
              "      <td>pickup</td>\n",
              "      <td>white</td>\n",
              "      <td>https://images.craigslist.org/00W0W_8yIUwRBXXd...</td>\n",
              "      <td>2018 Ford F-350 F350 F 350 SD Lariat Crew Cab ...</td>\n",
              "      <td>ut</td>\n",
              "      <td>40.3744</td>\n",
              "      <td>-104.694</td>\n",
              "    </tr>\n",
              "    <tr>\n",
              "      <th>5</th>\n",
              "      <td>7034406582</td>\n",
              "      <td>https://saltlakecity.craigslist.org/ctd/d/evan...</td>\n",
              "      <td>salt lake city</td>\n",
              "      <td>https://saltlakecity.craigslist.org</td>\n",
              "      <td>13999</td>\n",
              "      <td>2009.0</td>\n",
              "      <td>ram</td>\n",
              "      <td>-</td>\n",
              "      <td>gas</td>\n",
              "      <td>120057.0</td>\n",
              "      <td>clean</td>\n",
              "      <td>automatic</td>\n",
              "      <td>1D3HV18P89S777871</td>\n",
              "      <td>4wd</td>\n",
              "      <td>pickup</td>\n",
              "      <td>silver</td>\n",
              "      <td>https://images.craigslist.org/00y0y_RR9x2lk7eh...</td>\n",
              "      <td>2009 RAM 1500 4WD Quad Cab 140.5\" ST\"     Offe...</td>\n",
              "      <td>ut</td>\n",
              "      <td>40.3744</td>\n",
              "      <td>-104.694</td>\n",
              "    </tr>\n",
              "    <tr>\n",
              "      <th>6</th>\n",
              "      <td>7034405619</td>\n",
              "      <td>https://saltlakecity.craigslist.org/ctd/d/evan...</td>\n",
              "      <td>salt lake city</td>\n",
              "      <td>https://saltlakecity.craigslist.org</td>\n",
              "      <td>34500</td>\n",
              "      <td>2017.0</td>\n",
              "      <td>ford</td>\n",
              "      <td>f-350</td>\n",
              "      <td>diesel</td>\n",
              "      <td>95484.0</td>\n",
              "      <td>clean</td>\n",
              "      <td>automatic</td>\n",
              "      <td>1FT8W3BT2HEE98744</td>\n",
              "      <td>4wd</td>\n",
              "      <td>pickup</td>\n",
              "      <td>white</td>\n",
              "      <td>https://images.craigslist.org/00k0k_lIBatiU90s...</td>\n",
              "      <td>2017 Ford Super Duty F-350 F350 F 350 SRW Crew...</td>\n",
              "      <td>ut</td>\n",
              "      <td>40.3744</td>\n",
              "      <td>-104.694</td>\n",
              "    </tr>\n",
              "  </tbody>\n",
              "</table>\n",
              "</div>"
            ],
            "text/plain": [
              "           id  ...     long\n",
              "0  7034441763  ... -111.858\n",
              "2  7034440588  ... -111.884\n",
              "4  7034406932  ... -104.694\n",
              "5  7034406582  ... -104.694\n",
              "6  7034405619  ... -104.694\n",
              "\n",
              "[5 rows x 21 columns]"
            ]
          },
          "metadata": {
            "tags": []
          },
          "execution_count": 12
        }
      ]
    },
    {
      "cell_type": "markdown",
      "metadata": {
        "id": "3g44ieoo0Fgs",
        "colab_type": "text"
      },
      "source": [
        "# **Pemodelan**"
      ]
    },
    {
      "cell_type": "markdown",
      "metadata": {
        "id": "xPhUOZ1o0HGI",
        "colab_type": "text"
      },
      "source": [
        "## **Visualisasi data sebelum clustering**"
      ]
    },
    {
      "cell_type": "code",
      "metadata": {
        "id": "fO-P8maOWGEb",
        "colab_type": "code",
        "outputId": "06afe2b1-d6e8-428f-de4f-9de8fb868d3a",
        "colab": {
          "base_uri": "https://localhost:8080/",
          "height": 1000
        }
      },
      "source": [
        "plt.figure(figsize=(20,20))\n",
        "# print(data['price'][0],data['odometer'][0])\n",
        "# print(min(data['price']))\n",
        "# print(max(data['price']))\n",
        "\n",
        "# print(min(data['odometer']))\n",
        "# print(max(data['odometer']))\n",
        "\n",
        "# plt.xticks(np.arange(min(data['price']),max(data['price']),50000))\n",
        "# print(\"ASS2\")\n",
        "\n",
        "# plt.yticks(np.arange(min(data['odometer']),max(data['odometer']),50000))\n",
        "# print(\"ASS\")\n",
        "lat=(data['lat'])\n",
        "long=(data['long'])\n",
        "plt.scatter(lat,long)\n",
        "plt.show()"
      ],
      "execution_count": 0,
      "outputs": [
        {
          "output_type": "display_data",
          "data": {
            "image/png": "[encoded data removed]",
            "text/plain": [
              "<Figure size 1440x1440 with 1 Axes>"
            ]
          },
          "metadata": {
            "tags": [],
            "needs_background": "light"
          }
        }
      ]
    },
    {
      "cell_type": "markdown",
      "metadata": {
        "id": "PS9oqWLh0L8p",
        "colab_type": "text"
      },
      "source": [
        "## **Algoritma K-Means**"
      ]
    },
    {
      "cell_type": "code",
      "metadata": {
        "id": "hypYpc2l0LOY",
        "colab_type": "code",
        "colab": {}
      },
      "source": [
        "class K_Means:\n",
        "\n",
        "    #inisiasi nilai k dan maksimum perulangan\n",
        "    def __init__(self, k =3, tolerance = 0.0001, max_iterations = 500):\n",
        "        self.k = k\n",
        "        self.tolerance = tolerance\n",
        "        self.max_iterations = max_iterations\n",
        "\n",
        " \n",
        "    def fit(self, data):\n",
        "\n",
        "        self.centroids = {} #membuat centroids\n",
        "\n",
        "        #menginisiasi nilai centroid, nilai 'k' pertama pada elemen di dataset akan jadi nilai centroid\n",
        "        for i in range(self.k):\n",
        "            self.centroids[i] = data[i]\n",
        "\n",
        "        #mulai iterasi\n",
        "        for i in range(self.max_iterations):\n",
        "            self.jarak = 0   #self.jarak untuk menghitung jarak data ke centroid\n",
        "            self.classes = {}\n",
        "            for i in range(self.k):\n",
        "                self.classes[i] = []\n",
        "\n",
        "            #mencari jarak antara point ke cluster, lalu memilih centroid terdekat\n",
        "            for features in data:\n",
        "                distances = [np.linalg.norm(features - self.centroids[centroid]) for centroid in self.centroids]\n",
        "                self.jarak=self.jarak+min(distances)   #self.jarak = akan memilih jarak mana yg paling terdekat dengan centroid\n",
        "                classification = distances.index(min(distances))\n",
        "                self.classes[classification].append(features)\n",
        "\n",
        "            previous = dict(self.centroids)\n",
        "\n",
        "            #mencari nilai cluster dengan rata-rata, lalu re-calculate centroids\n",
        "            for classification in self.classes:\n",
        "                self.centroids[classification] = np.average(self.classes[classification], axis = 0)\n",
        "\n",
        "            isOptimal = True\n",
        "\n",
        "            for centroid in self.centroids:\n",
        "\n",
        "                original_centroid = previous[centroid]\n",
        "                curr = self.centroids[centroid]\n",
        "\n",
        "                if np.sum((curr - original_centroid)/original_centroid * 100.0) > self.tolerance:\n",
        "                    isOptimal = False\n",
        "\n",
        "            #jika nilai centroid tidak terlalu berubah nilainya, maka dianggap optimal. lalu break(stop)\n",
        "            if isOptimal:\n",
        "                break"
      ],
      "execution_count": 0,
      "outputs": []
    },
    {
      "cell_type": "markdown",
      "metadata": {
        "id": "5-do2Nrl0vF3",
        "colab_type": "text"
      },
      "source": [
        "## **Hasil Cluster**"
      ]
    },
    {
      "cell_type": "code",
      "metadata": {
        "id": "771BZnKOWGEg",
        "colab_type": "code",
        "outputId": "8a248282-6200-46fa-f679-b55880095c3b",
        "colab": {
          "base_uri": "https://localhost:8080/",
          "height": 141
        }
      },
      "source": [
        "data_cluster=data[['lat','long']]\n",
        "#print(data.dtypes)\n",
        "dataset = data_cluster.astype(float).values.tolist()\n",
        "X = data_cluster.values\n",
        "\n",
        "km = K_Means(2)\n",
        "km.fit(X)\n",
        "X"
      ],
      "execution_count": 15,
      "outputs": [
        {
          "output_type": "execute_result",
          "data": {
            "text/plain": [
              "array([[  40.7372, -111.858 ],\n",
              "       [  40.5881, -111.884 ],\n",
              "       [  40.3744, -104.694 ],\n",
              "       ...,\n",
              "       [  46.5642, -120.496 ],\n",
              "       [  46.5642, -120.496 ],\n",
              "       [  46.2348, -119.128 ]])"
            ]
          },
          "metadata": {
            "tags": []
          },
          "execution_count": 15
        }
      ]
    },
    {
      "cell_type": "code",
      "metadata": {
        "id": "BI8t-vLNWGEj",
        "colab_type": "code",
        "outputId": "1cfdd2f7-b353-4c09-c79c-f3d3f06fd900",
        "colab": {
          "base_uri": "https://localhost:8080/",
          "height": 1000
        }
      },
      "source": [
        "colors = 10*[\"r\", \"g\", \"c\", \"b\", \"k\"]\n",
        "plt.figure(figsize=(20,20))\n",
        "\n",
        "#plt.xlim(0,100000)\n",
        "#plt.ylim(0,100000)\n",
        "\n",
        "data['Cabang']=''\n",
        "for classification in km.classes:\n",
        "    color = colors[classification]\n",
        "    for features in km.classes[classification]:\n",
        "        plt.scatter(features[0], features[1], color = color,s = 10)\n",
        "        #data.loc[(data['lat'] == features[0]) & (data['long'] == features[1]), 'Region'] = classification\n",
        "        \n",
        "\n",
        "        \n",
        "for centroid in km.centroids:\n",
        "        plt.scatter(km.centroids[centroid][0], km.centroids[centroid][1], s = 500, marker = \"x\")"
      ],
      "execution_count": 0,
      "outputs": [
        {
          "output_type": "display_data",
          "data": {
            "image/png": "[encoded data removed]",
            "text/plain": [
              "<Figure size 1440x1440 with 1 Axes>"
            ]
          },
          "metadata": {
            "tags": [],
            "needs_background": "light"
          }
        }
      ]
    },
    {
      "cell_type": "markdown",
      "metadata": {
        "id": "TDTDiC6n04O7",
        "colab_type": "text"
      },
      "source": [
        "# **Evaluasi**"
      ]
    },
    {
      "cell_type": "markdown",
      "metadata": {
        "id": "At3saVN9LjkK",
        "colab_type": "text"
      },
      "source": [
        "## **ELBOW METHOD**"
      ]
    },
    {
      "cell_type": "code",
      "metadata": {
        "id": "Hj6XaUIYFZ6o",
        "colab_type": "code",
        "outputId": "c2e009be-efa0-4a21-99bf-a2bd17ed737f",
        "colab": {
          "base_uri": "https://localhost:8080/",
          "height": 488
        }
      },
      "source": [
        "sse = []\n",
        "list_k = list(range(1,10))\n",
        "\n",
        "for k in list_k:\n",
        "  model = K_Means(k)\n",
        "  model.fit(X**2)\n",
        "  sse.append(model.jarak)\n",
        "\n",
        "#plot sse\n",
        "plt.figure(figsize=(6, 6))\n",
        "plt.plot(list_k, sse, '-o')\n",
        "plt.xlabel('Cluster(k)')\n",
        "plt.ylabel('Sum Squared Error/Inertia')"
      ],
      "execution_count": 16,
      "outputs": [
        {
          "output_type": "stream",
          "text": [
            "/usr/local/lib/python3.6/dist-packages/numpy/lib/function_base.py:393: RuntimeWarning: Mean of empty slice.\n",
            "  avg = a.mean(axis)\n",
            "/usr/local/lib/python3.6/dist-packages/numpy/core/_methods.py:161: RuntimeWarning: invalid value encountered in double_scalars\n",
            "  ret = ret.dtype.type(ret / rcount)\n"
          ],
          "name": "stderr"
        },
        {
          "output_type": "execute_result",
          "data": {
            "text/plain": [
              "Text(0, 0.5, 'Sum Squared Error/Inertia')"
            ]
          },
          "metadata": {
            "tags": []
          },
          "execution_count": 16
        },
        {
          "output_type": "display_data",
          "data": {
            "image/png": "[encoded data removed]",
            "text/plain": [
              "<Figure size 432x432 with 1 Axes>"
            ]
          },
          "metadata": {
            "tags": [],
            "needs_background": "light"
          }
        }
      ]
    },
    {
      "cell_type": "markdown",
      "metadata": {
        "id": "PjnmLwIoL4NM",
        "colab_type": "text"
      },
      "source": [
        "## **nilai sse model 1**"
      ]
    },
    {
      "cell_type": "code",
      "metadata": {
        "id": "zPzxM5Id1Gsp",
        "colab_type": "code",
        "outputId": "e957da85-238b-43d1-ae7b-b12cc2c6ff6d",
        "colab": {
          "base_uri": "https://localhost:8080/",
          "height": 35
        }
      },
      "source": [
        "#didaoat dari self.jarak pada model KM dikuadratkan\n",
        "sse1=km.jarak**2\n",
        "sse1"
      ],
      "execution_count": 25,
      "outputs": [
        {
          "output_type": "execute_result",
          "data": {
            "text/plain": [
              "265795588455.95013"
            ]
          },
          "metadata": {
            "tags": []
          },
          "execution_count": 25
        }
      ]
    },
    {
      "cell_type": "markdown",
      "metadata": {
        "id": "Y96iYZI40_OH",
        "colab_type": "text"
      },
      "source": [
        "# **Eksperimen**\n",
        "\n",
        "dengan mengganti nilai K= 3"
      ]
    },
    {
      "cell_type": "code",
      "metadata": {
        "id": "HG-8vBlp1A38",
        "colab_type": "code",
        "colab": {}
      },
      "source": [
        "data_cluster2=data[['lat','long']]\n",
        "#print(data.dtypes)\n",
        "dataset = data_cluster.astype(float).values.tolist()\n",
        "X2 = data_cluster.values\n",
        "\n",
        "km2 = K_Means(3)\n",
        "km2.fit(X2)\n"
      ],
      "execution_count": 0,
      "outputs": []
    },
    {
      "cell_type": "code",
      "metadata": {
        "id": "-Gq3VbS31Cq1",
        "colab_type": "code",
        "outputId": "5e9dec2e-6531-42f7-8ae2-a7fabbf75f47",
        "colab": {
          "base_uri": "https://localhost:8080/",
          "height": 1000
        }
      },
      "source": [
        "colors = 10*[\"r\", \"g\", \"c\", \"b\", \"k\"]\n",
        "plt.figure(figsize=(20,20))\n",
        "\n",
        "\n",
        "\n",
        "data['Cabang']=''\n",
        "for classification in km2.classes:\n",
        "    color = colors[classification]\n",
        "    for features in km2.classes[classification]:\n",
        "        plt.scatter(features[0], features[1], color = color,s = 10)\n",
        "        \n",
        "for centroid in km2.centroids:\n",
        "        plt.scatter(km2.centroids[centroid][0], km2.centroids[centroid][1], s = 500, marker = \"x\")"
      ],
      "execution_count": 0,
      "outputs": [
        {
          "output_type": "display_data",
          "data": {
            "image/png": "[encoded data removed]",
            "text/plain": [
              "<Figure size 1440x1440 with 1 Axes>"
            ]
          },
          "metadata": {
            "tags": [],
            "needs_background": "light"
          }
        }
      ]
    },
    {
      "cell_type": "markdown",
      "metadata": {
        "id": "N7fBhr4Y1EWd",
        "colab_type": "text"
      },
      "source": [
        "# **Evaluasi**"
      ]
    },
    {
      "cell_type": "markdown",
      "metadata": {
        "id": "pAw1es7cMi67",
        "colab_type": "text"
      },
      "source": [
        "## **Elbow method model 2**"
      ]
    },
    {
      "cell_type": "code",
      "metadata": {
        "id": "HCN67hOl1H4v",
        "colab_type": "code",
        "outputId": "c5cd16c4-93bf-4bea-f580-64094302e714",
        "colab": {
          "base_uri": "https://localhost:8080/",
          "height": 488
        }
      },
      "source": [
        "sse = []\n",
        "list_k = list(range(1,10))\n",
        "\n",
        "for k in list_k:\n",
        "  model = K_Means(k)\n",
        "  model.fit(X2**2)\n",
        "  sse.append(model.jarak)\n",
        "\n",
        "#plot sse\n",
        "plt.figure(figsize=(6, 6))\n",
        "plt.plot(list_k, sse, '-o')\n",
        "plt.xlabel('Cluster(k)')\n",
        "plt.ylabel('Sum Squared Error/Inertia')"
      ],
      "execution_count": 30,
      "outputs": [
        {
          "output_type": "stream",
          "text": [
            "/usr/local/lib/python3.6/dist-packages/numpy/lib/function_base.py:393: RuntimeWarning: Mean of empty slice.\n",
            "  avg = a.mean(axis)\n",
            "/usr/local/lib/python3.6/dist-packages/numpy/core/_methods.py:161: RuntimeWarning: invalid value encountered in double_scalars\n",
            "  ret = ret.dtype.type(ret / rcount)\n"
          ],
          "name": "stderr"
        },
        {
          "output_type": "execute_result",
          "data": {
            "text/plain": [
              "Text(0, 0.5, 'Sum Squared Error/Inertia')"
            ]
          },
          "metadata": {
            "tags": []
          },
          "execution_count": 30
        },
        {
          "output_type": "display_data",
          "data": {
            "image/png": "[encoded data removed]",
            "text/plain": [
              "<Figure size 432x432 with 1 Axes>"
            ]
          },
          "metadata": {
            "tags": [],
            "needs_background": "light"
          }
        }
      ]
    },
    {
      "cell_type": "markdown",
      "metadata": {
        "id": "5hJiCsV7MrUq",
        "colab_type": "text"
      },
      "source": [
        "## **nilai sse model 2**"
      ]
    },
    {
      "cell_type": "markdown",
      "metadata": {
        "id": "xCC3lD8LMm9D",
        "colab_type": "text"
      },
      "source": [
        ""
      ]
    },
    {
      "cell_type": "code",
      "metadata": {
        "id": "cWzR8oHeMkKY",
        "colab_type": "code",
        "outputId": "2240f3c6-028c-4cab-a5a7-c5761b51355a",
        "colab": {
          "base_uri": "https://localhost:8080/",
          "height": 35
        }
      },
      "source": [
        "sse2 = km2.jarak**2\n",
        "sse2"
      ],
      "execution_count": 32,
      "outputs": [
        {
          "output_type": "execute_result",
          "data": {
            "text/plain": [
              "2426932734.7782755"
            ]
          },
          "metadata": {
            "tags": []
          },
          "execution_count": 32
        }
      ]
    },
    {
      "cell_type": "markdown",
      "metadata": {
        "id": "bg2Kw3PpMy4V",
        "colab_type": "text"
      },
      "source": [
        "# **unduh dataset**"
      ]
    },
    {
      "cell_type": "code",
      "metadata": {
        "id": "GXVCdNOjZKRn",
        "colab_type": "code",
        "colab": {}
      },
      "source": [
        "# data_cluster2=data[['lat','long']]\n",
        "data_cluster2.columns = [['lat','long']]\n"
      ],
      "execution_count": 0,
      "outputs": []
    },
    {
      "cell_type": "code",
      "metadata": {
        "id": "n9BkRsgyZ3S1",
        "colab_type": "code",
        "colab": {}
      },
      "source": [
        "data_cluster2.to_csv('dataset_clustering.csv',index = False)"
      ],
      "execution_count": 0,
      "outputs": []
    }
  ]
}